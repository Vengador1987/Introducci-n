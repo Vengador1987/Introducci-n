{
 "cells": [
  {
   "cell_type": "markdown",
   "id": "b995a9c2",
   "metadata": {},
   "source": [
    "## Lectura y Escritura de ficheros Ejercicios"
   ]
  },
  {
   "cell_type": "markdown",
   "id": "4cf125fc",
   "metadata": {},
   "source": [
    "### Ejercicio 1:\n",
    "- Pide al usuario por pantalla un número entero.\n",
    "- Crear un fichero llamado **`\"ejercicio_1.txt\"`** y llenalo con la tabla de multiplicar de ese número.\n",
    "\n",
    "**`Output:`**\n",
    "\n",
    "**`1 X 0 = 0`**<br>\n",
    "**`1 X 1 = 1`**<br>\n",
    "**`1 X 2 = 2`**<br>\n",
    "**`1 X 3 = 3`**<br>\n",
    "**`1 X 4 = 4`**<br>\n",
    "**`1 X 5 = 5`**<br>\n",
    "**`1 X 6 = 6`**<br>\n",
    "**`1 X 7 = 7`**<br>\n",
    "**`1 X 8 = 8`**<br>\n",
    "**`1 X 9 = 9`**<br>"
   ]
  },
  {
   "cell_type": "code",
   "execution_count": null,
   "id": "c4c1261e",
   "metadata": {},
   "outputs": [],
   "source": []
  },
  {
   "cell_type": "code",
   "execution_count": null,
   "id": "b16e56a9",
   "metadata": {},
   "outputs": [],
   "source": []
  },
  {
   "cell_type": "code",
   "execution_count": null,
   "id": "bad8a573",
   "metadata": {},
   "outputs": [],
   "source": []
  },
  {
   "cell_type": "markdown",
   "id": "a2a75f0b",
   "metadata": {},
   "source": [
    "### Ejercicio 2:\n",
    "- Lee el archivo **`\"ejercicio_2.txt\"`** y guarda su contenido en una variable.\n",
    "- Muestra cuantas palabras hay en total y su frecuencia."
   ]
  },
  {
   "cell_type": "code",
   "execution_count": null,
   "id": "f4c51cbc",
   "metadata": {},
   "outputs": [],
   "source": []
  },
  {
   "cell_type": "code",
   "execution_count": null,
   "id": "7d22ba83",
   "metadata": {},
   "outputs": [],
   "source": []
  },
  {
   "cell_type": "code",
   "execution_count": null,
   "id": "3dba928c",
   "metadata": {},
   "outputs": [],
   "source": []
  },
  {
   "cell_type": "markdown",
   "id": "0a55082d",
   "metadata": {},
   "source": [
    "### Ejercicio 3:\n",
    "- Define una función que tome como parametro el nombre de un archivo y que pida por pantalla al usuario:\n",
    "    1. **`Nombre`**\n",
    "    2. **`Un número entero`**\n",
    "    3. **`Una palabra`**\n",
    "    4. **`Nombre de Ciudad`**\n",
    "    5. Escribe el código para escribir esos datos en una sola linea en el archivo (**`Sin sobreescribir el archivo`**).\n",
    "    6. No debe retornar nada.\n",
    "- El archivo puede tener cualquier nombre, pero vamos a llamarlo **`\"ejercicio_3.txt\"`**.\n",
    "- Ejecuta esa función 5 veces. Asegurate de que el código funciona correctamente."
   ]
  },
  {
   "cell_type": "code",
   "execution_count": null,
   "id": "f6ab2faf",
   "metadata": {},
   "outputs": [],
   "source": []
  },
  {
   "cell_type": "code",
   "execution_count": null,
   "id": "5105e052",
   "metadata": {},
   "outputs": [],
   "source": []
  },
  {
   "cell_type": "code",
   "execution_count": null,
   "id": "ed8363ef",
   "metadata": {},
   "outputs": [],
   "source": []
  },
  {
   "cell_type": "markdown",
   "id": "9c3c0af9",
   "metadata": {},
   "source": [
    "### Ejercicio 4:\n",
    "- Lee el archivo binario **`\"datos.pkl\"`** (recuerda importar la libreria).\n",
    "- Guarda ese objeto en la variable **`datos`**."
   ]
  },
  {
   "cell_type": "code",
   "execution_count": null,
   "id": "72814f7b",
   "metadata": {},
   "outputs": [],
   "source": []
  },
  {
   "cell_type": "code",
   "execution_count": null,
   "id": "95827732",
   "metadata": {},
   "outputs": [],
   "source": []
  },
  {
   "cell_type": "code",
   "execution_count": null,
   "id": "bb66637f",
   "metadata": {},
   "outputs": [],
   "source": []
  },
  {
   "cell_type": "markdown",
   "id": "4c45a63c",
   "metadata": {},
   "source": [
    "### Ejercicio 5:\n",
    "- Usando la variable **`datos`** encuentra los elementos que tengan **`\"V1\"`** en su nombre."
   ]
  },
  {
   "cell_type": "code",
   "execution_count": null,
   "id": "eb340606",
   "metadata": {},
   "outputs": [],
   "source": []
  },
  {
   "cell_type": "code",
   "execution_count": null,
   "id": "c0d3fbcb",
   "metadata": {},
   "outputs": [],
   "source": []
  },
  {
   "cell_type": "code",
   "execution_count": null,
   "id": "b78cb5d4",
   "metadata": {},
   "outputs": [],
   "source": []
  },
  {
   "cell_type": "markdown",
   "id": "69914934",
   "metadata": {},
   "source": [
    "### Ejercicio 5:\n",
    "- Usando la variable **`datos`** muestra los indices donde **`\"tipo\"`** sea **`entrada`**."
   ]
  },
  {
   "cell_type": "code",
   "execution_count": null,
   "id": "31dd936f",
   "metadata": {},
   "outputs": [],
   "source": []
  },
  {
   "cell_type": "code",
   "execution_count": null,
   "id": "c94a169c",
   "metadata": {},
   "outputs": [],
   "source": []
  },
  {
   "cell_type": "code",
   "execution_count": null,
   "id": "4f12063f",
   "metadata": {},
   "outputs": [],
   "source": []
  },
  {
   "cell_type": "markdown",
   "id": "6da566f2",
   "metadata": {},
   "source": [
    "### Ejercicio 6:\n",
    "- Usando la variable **`datos`** muestra los indices que sean del año **`2016`**."
   ]
  },
  {
   "cell_type": "code",
   "execution_count": null,
   "id": "7a229bb9",
   "metadata": {},
   "outputs": [],
   "source": []
  },
  {
   "cell_type": "code",
   "execution_count": null,
   "id": "f003e49c",
   "metadata": {},
   "outputs": [],
   "source": []
  },
  {
   "cell_type": "code",
   "execution_count": null,
   "id": "84d12d8f",
   "metadata": {},
   "outputs": [],
   "source": []
  }
 ],
 "metadata": {
  "kernelspec": {
   "display_name": "Python 3",
   "language": "python",
   "name": "python3"
  },
  "language_info": {
   "codemirror_mode": {
    "name": "ipython",
    "version": 3
   },
   "file_extension": ".py",
   "mimetype": "text/x-python",
   "name": "python",
   "nbconvert_exporter": "python",
   "pygments_lexer": "ipython3",
   "version": "3.8.8"
  }
 },
 "nbformat": 4,
 "nbformat_minor": 5
}
