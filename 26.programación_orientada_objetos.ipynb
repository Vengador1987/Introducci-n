{
 "cells": [
  {
   "cell_type": "markdown",
   "id": "716ef758",
   "metadata": {},
   "source": [
    "# Clases (class)\n",
    "\n",
    "La programación orientada a objetos (**Object-Oriented Programming (OOP)**) se basa en el hecho de que **se debe dividir el programa en modelos de objetos físicos o simulados**. Se debe expresar un programa como un **conjunto de objetos que colaboran entre si mismos** para realizar tareas.\n",
    "\n",
    "**Un objeto** es la representación en un programa de un concepto y contiene la información necesaría para abstraerlo:\n",
    "\n",
    "- **Atributos**: que describen al objeto.\n",
    "- **Métodos**: operaciones que se pueden realizar al objeto.\n",
    "\n",
    "\n",
    "Los objetos pueden agruparse en categorías y una clase describe (de un modo abstracto) todos los objetos de un tipo o categoría determinada.\n",
    "\n",
    "![oop_1](oop_1.png)\n",
    "\n",
    "**La idea de la programación orientada a objetos puede parecer abstracta y compleja**, pero ya hemos estado utilizando objetos sin darnos cuenta. **Casi todo en Python es un objeto**, todas las cadenas, listas, y diccionarios que hemos visto hasta ahora y que hemos usado han sido objetos.\n",
    "\n",
    "- **Objeto**\n",
    "    - El objeto es el centro de la programación orientada a objetos. Un objeto es algo que se visualiza, se utiliza y que juega un papel o un rol en el dominio del problema del programa. La estructura interna y el comportamiento de un objeto, en consecuencia, no es prioritario durante el modelado del problema.\n",
    "    \n",
    "\n",
    "- **Clase**\n",
    "    - En el mundo real existen varios objetos de un mismo tipo o clase, por lo que una clase equivale a la generalización de un tipo específico de objetos. Una clase es una plantilla que define las variables y los métodos que son comunes para todos los objetos de un cierto tipo.\n",
    "    \n",
    "\n",
    "- **Instancia**\n",
    "    - Una vez definida la clase se pueden crear objetos a partir de ésta, a este proceso se le conoce como crear instancias de una clase o instanciar una clase. En este momento el sistema reserva suficiente memoria para el objeto con todos sus atributos.\n",
    "\n",
    "    - Una instancia es un elemento de una clase (un objeto). Cada uno de los objetos o instancias tiene su propia copia de las variables definidas en la clase de la cual son instanciados y comparten la misma implementación de los métodos. Sin embargo, cada objeto asigna valores a sus atributos y es totalmente independiente de los demás.\n",
    "    \n",
    "\n",
    "- **Método**\n",
    "    - Los métodos especifican el comportamiento de la clase y sus instancias. En el momento de la declaración hay que indicar cuál es el tipo del parámetro que devolverá el método.\n",
    "    \n",
    "\n",
    "- **Atributos**\n",
    "    - Tipos de datos asociados a un objeto (o a una clase de objetos), que hace los datos visibles desde fuera del objeto y esto se define como sus características predeterminadas, cuyo valor puede ser alterado por la ejecución de algún método.\n",
    "    \n",
    "\n",
    "**Ejemplos:**"
   ]
  },
  {
   "cell_type": "code",
   "execution_count": 1,
   "id": "12ffbb61",
   "metadata": {},
   "outputs": [
    {
     "name": "stdout",
     "output_type": "stream",
     "text": [
      "<class 'list'>\n"
     ]
    }
   ],
   "source": [
    "# Listas\n",
    "\n",
    "lista = [0, 1, 2, 3, 4]\n",
    "\n",
    "print(type(lista))"
   ]
  },
  {
   "cell_type": "code",
   "execution_count": 2,
   "id": "dfb07e58",
   "metadata": {
    "scrolled": true
   },
   "outputs": [
    {
     "data": {
      "text/plain": [
       "['__add__',\n",
       " '__class__',\n",
       " '__contains__',\n",
       " '__delattr__',\n",
       " '__delitem__',\n",
       " '__dir__',\n",
       " '__doc__',\n",
       " '__eq__',\n",
       " '__format__',\n",
       " '__ge__',\n",
       " '__getattribute__',\n",
       " '__getitem__',\n",
       " '__gt__',\n",
       " '__hash__',\n",
       " '__iadd__',\n",
       " '__imul__',\n",
       " '__init__',\n",
       " '__init_subclass__',\n",
       " '__iter__',\n",
       " '__le__',\n",
       " '__len__',\n",
       " '__lt__',\n",
       " '__mul__',\n",
       " '__ne__',\n",
       " '__new__',\n",
       " '__reduce__',\n",
       " '__reduce_ex__',\n",
       " '__repr__',\n",
       " '__reversed__',\n",
       " '__rmul__',\n",
       " '__setattr__',\n",
       " '__setitem__',\n",
       " '__sizeof__',\n",
       " '__str__',\n",
       " '__subclasshook__',\n",
       " 'append',\n",
       " 'clear',\n",
       " 'copy',\n",
       " 'count',\n",
       " 'extend',\n",
       " 'index',\n",
       " 'insert',\n",
       " 'pop',\n",
       " 'remove',\n",
       " 'reverse',\n",
       " 'sort']"
      ]
     },
     "execution_count": 2,
     "metadata": {},
     "output_type": "execute_result"
    }
   ],
   "source": [
    "# La función dir() nos muestra todos los atributos y métodos de una clase\n",
    "\n",
    "dir(lista) \n",
    "\n",
    "# Los métodos con doble guión bajo se llaman métodos especiales \n",
    "# y se utilizan con funciones externas: reversed, dir...\n",
    "\n",
    "# Los métodos sin el doble guión son los métodos comunes\n",
    "# Algunos ya los conocemos como: append, pop, remove, reverse..."
   ]
  },
  {
   "cell_type": "code",
   "execution_count": 3,
   "id": "98850ce0",
   "metadata": {
    "scrolled": true
   },
   "outputs": [
    {
     "data": {
      "text/plain": [
       "['__class__',\n",
       " '__contains__',\n",
       " '__delattr__',\n",
       " '__delitem__',\n",
       " '__dir__',\n",
       " '__doc__',\n",
       " '__eq__',\n",
       " '__format__',\n",
       " '__ge__',\n",
       " '__getattribute__',\n",
       " '__getitem__',\n",
       " '__gt__',\n",
       " '__hash__',\n",
       " '__init__',\n",
       " '__init_subclass__',\n",
       " '__iter__',\n",
       " '__le__',\n",
       " '__len__',\n",
       " '__lt__',\n",
       " '__ne__',\n",
       " '__new__',\n",
       " '__reduce__',\n",
       " '__reduce_ex__',\n",
       " '__repr__',\n",
       " '__reversed__',\n",
       " '__setattr__',\n",
       " '__setitem__',\n",
       " '__sizeof__',\n",
       " '__str__',\n",
       " '__subclasshook__',\n",
       " 'clear',\n",
       " 'copy',\n",
       " 'fromkeys',\n",
       " 'get',\n",
       " 'items',\n",
       " 'keys',\n",
       " 'pop',\n",
       " 'popitem',\n",
       " 'setdefault',\n",
       " 'update',\n",
       " 'values']"
      ]
     },
     "execution_count": 3,
     "metadata": {},
     "output_type": "execute_result"
    }
   ],
   "source": [
    "# Clase Diccionario\n",
    "\n",
    "dir({})"
   ]
  },
  {
   "cell_type": "markdown",
   "id": "9beb2606",
   "metadata": {},
   "source": [
    "# Crear una clase\n",
    "\n",
    "Para crear una clase utilizamos la función **`class`** seguido del nombre que le queramos poner a la clase (como si fuese una función). **Usualmente los nombres se escriben usando \"Upper Camel Case\"**."
   ]
  },
  {
   "cell_type": "code",
   "execution_count": 4,
   "id": "d0913849",
   "metadata": {},
   "outputs": [],
   "source": [
    "class NuevaClase:\n",
    "    pass"
   ]
  },
  {
   "cell_type": "code",
   "execution_count": 5,
   "id": "d06444cf",
   "metadata": {},
   "outputs": [
    {
     "data": {
      "text/plain": [
       "['__class__',\n",
       " '__delattr__',\n",
       " '__dict__',\n",
       " '__dir__',\n",
       " '__doc__',\n",
       " '__eq__',\n",
       " '__format__',\n",
       " '__ge__',\n",
       " '__getattribute__',\n",
       " '__gt__',\n",
       " '__hash__',\n",
       " '__init__',\n",
       " '__init_subclass__',\n",
       " '__le__',\n",
       " '__lt__',\n",
       " '__module__',\n",
       " '__ne__',\n",
       " '__new__',\n",
       " '__reduce__',\n",
       " '__reduce_ex__',\n",
       " '__repr__',\n",
       " '__setattr__',\n",
       " '__sizeof__',\n",
       " '__str__',\n",
       " '__subclasshook__',\n",
       " '__weakref__']"
      ]
     },
     "execution_count": 5,
     "metadata": {},
     "output_type": "execute_result"
    }
   ],
   "source": [
    "dir(NuevaClase())"
   ]
  },
  {
   "cell_type": "markdown",
   "id": "e1aa427c",
   "metadata": {},
   "source": [
    "# Atributos\n",
    "\n",
    "Para agregar atributos a una clase, podemos declarar variables al momento de iniciar la clase."
   ]
  },
  {
   "cell_type": "code",
   "execution_count": 6,
   "id": "20b44c5c",
   "metadata": {},
   "outputs": [],
   "source": [
    "class AutoMovil:\n",
    "    \n",
    "    color = \"azul\"\n",
    "    asientos = 4"
   ]
  },
  {
   "cell_type": "code",
   "execution_count": 7,
   "id": "e9588f76",
   "metadata": {},
   "outputs": [],
   "source": [
    "# Inicializamos una instancia \n",
    "\n",
    "coche = AutoMovil()"
   ]
  },
  {
   "cell_type": "code",
   "execution_count": 8,
   "id": "d542f8a0",
   "metadata": {},
   "outputs": [
    {
     "data": {
      "text/plain": [
       "<__main__.AutoMovil at 0x2620aa840a0>"
      ]
     },
     "execution_count": 8,
     "metadata": {},
     "output_type": "execute_result"
    }
   ],
   "source": [
    "coche"
   ]
  },
  {
   "cell_type": "code",
   "execution_count": 9,
   "id": "ed6e0e42",
   "metadata": {},
   "outputs": [
    {
     "data": {
      "text/plain": [
       "'azul'"
      ]
     },
     "execution_count": 9,
     "metadata": {},
     "output_type": "execute_result"
    }
   ],
   "source": [
    "# Para acceder a estos atributos utilizamos \".\" y luego el nombre del atributo\n",
    "\n",
    "coche.color"
   ]
  },
  {
   "cell_type": "code",
   "execution_count": 10,
   "id": "007173e0",
   "metadata": {},
   "outputs": [
    {
     "data": {
      "text/plain": [
       "4"
      ]
     },
     "execution_count": 10,
     "metadata": {},
     "output_type": "execute_result"
    }
   ],
   "source": [
    "coche.asientos"
   ]
  },
  {
   "cell_type": "code",
   "execution_count": 11,
   "id": "2642df47",
   "metadata": {},
   "outputs": [],
   "source": [
    "# También se pueden agregar atributos, aunque estos no sea hayan especificado al momento de crear una clase.\n",
    "\n",
    "coche.ruedas_respuesto = 0"
   ]
  },
  {
   "cell_type": "code",
   "execution_count": 12,
   "id": "a08d0753",
   "metadata": {},
   "outputs": [
    {
     "ename": "AttributeError",
     "evalue": "'AutoMovil' object has no attribute 'marca'",
     "output_type": "error",
     "traceback": [
      "\u001b[1;31m---------------------------------------------------------------------------\u001b[0m",
      "\u001b[1;31mAttributeError\u001b[0m                            Traceback (most recent call last)",
      "\u001b[1;32m<ipython-input-12-ddb4a40ed313>\u001b[0m in \u001b[0;36m<module>\u001b[1;34m\u001b[0m\n\u001b[0;32m      1\u001b[0m \u001b[1;31m# Pero si intentamos acceder a un atributo que no exista nos dará error\u001b[0m\u001b[1;33m\u001b[0m\u001b[1;33m\u001b[0m\u001b[1;33m\u001b[0m\u001b[0m\n\u001b[0;32m      2\u001b[0m \u001b[1;33m\u001b[0m\u001b[0m\n\u001b[1;32m----> 3\u001b[1;33m \u001b[0mcoche\u001b[0m\u001b[1;33m.\u001b[0m\u001b[0mmarca\u001b[0m\u001b[1;33m\u001b[0m\u001b[1;33m\u001b[0m\u001b[0m\n\u001b[0m",
      "\u001b[1;31mAttributeError\u001b[0m: 'AutoMovil' object has no attribute 'marca'"
     ]
    }
   ],
   "source": [
    "# Pero si intentamos acceder a un atributo que no exista nos dará error\n",
    "\n",
    "coche.marca"
   ]
  },
  {
   "cell_type": "markdown",
   "id": "6e303be7",
   "metadata": {},
   "source": [
    "# \\_\\_init\\_\\_\n",
    "\n",
    "El método **`__init__`** (**initialize**) es **utilizado cada vez que se crea una instancia de una clase**.\n",
    "Este método **se utiliza para inicializar atributos** y solo es utilizado para eso, no tiene otros usos.\n",
    "\n",
    "Al utilizar este método cada vez que inicialicemos una instancia **tendremos que dar parametros al objeto para que pueda crear los atributos, de esta forma cada instancia es diferente y es dinámico**.\n",
    "\n",
    "Este método **`__init__`** puede tomar tantos parametros como queramos pero **el primer parámetro debe ser una variable llamada `self`** (por convención) que hará referencia a \"él mismo\". (Por eso el nombre **`\"self\"`**).\n",
    "\n",
    "Luego de esto, utilizamos los parametros de la clase para inicializar los atributos:\n",
    "\n",
    "**`self.atributo = parametro`**\n",
    "\n",
    "Aquí usamos la variable **`self`** para que la clase entienda que el atributo se le va a agregar a esa instancia, no a todas las instancias.\n",
    "\n",
    "Aunque no es obligatorio, por lo general **atributo** y **parametro** comparten el mismo nombre. "
   ]
  },
  {
   "cell_type": "code",
   "execution_count": 13,
   "id": "11aed883",
   "metadata": {},
   "outputs": [],
   "source": [
    "class Empleado:\n",
    "    \n",
    "    puesto_trabajo = \"Empleado\"\n",
    "    \n",
    "    def __init__(self, nombre, apellido):\n",
    "        self.nombre = nombre\n",
    "        self.apellido = apellido\n",
    "        self.email = \"{}.{}@python.com\".format(nombre.lower(), apellido.lower())\n",
    "        \n",
    "        \n",
    "# En este ejemplo, cuando inicialicemos una instancia tendremos que dar los parametros de nombre y apellido\n",
    "# La instancia creada tendra los atributos de nombre, apellido y email variables (dependiendo de los valores)\n",
    "# Y tendra el atributo \"puesto_trabajo\" constante, es decir, todas las instancias creadas tendrán el mismo valor."
   ]
  },
  {
   "cell_type": "code",
   "execution_count": 14,
   "id": "4f24e7a0",
   "metadata": {},
   "outputs": [
    {
     "data": {
      "text/plain": [
       "<__main__.Empleado at 0x2620a95ca00>"
      ]
     },
     "execution_count": 14,
     "metadata": {},
     "output_type": "execute_result"
    }
   ],
   "source": [
    "persona = Empleado(nombre = \"Daniel\", apellido = \"Tummler\")\n",
    "\n",
    "persona"
   ]
  },
  {
   "cell_type": "code",
   "execution_count": 15,
   "id": "df726ca6",
   "metadata": {},
   "outputs": [
    {
     "data": {
      "text/plain": [
       "'Daniel'"
      ]
     },
     "execution_count": 15,
     "metadata": {},
     "output_type": "execute_result"
    }
   ],
   "source": [
    "persona.nombre"
   ]
  },
  {
   "cell_type": "code",
   "execution_count": 16,
   "id": "bd8a59ae",
   "metadata": {},
   "outputs": [
    {
     "data": {
      "text/plain": [
       "'Tummler'"
      ]
     },
     "execution_count": 16,
     "metadata": {},
     "output_type": "execute_result"
    }
   ],
   "source": [
    "persona.apellido"
   ]
  },
  {
   "cell_type": "code",
   "execution_count": 17,
   "id": "e7dd99da",
   "metadata": {},
   "outputs": [
    {
     "data": {
      "text/plain": [
       "'daniel.tummler@python.com'"
      ]
     },
     "execution_count": 17,
     "metadata": {},
     "output_type": "execute_result"
    }
   ],
   "source": [
    "persona.email"
   ]
  },
  {
   "cell_type": "code",
   "execution_count": 18,
   "id": "9f820b5a",
   "metadata": {},
   "outputs": [
    {
     "data": {
      "text/plain": [
       "'Empleado'"
      ]
     },
     "execution_count": 18,
     "metadata": {},
     "output_type": "execute_result"
    }
   ],
   "source": [
    "persona.puesto_trabajo"
   ]
  },
  {
   "cell_type": "code",
   "execution_count": 19,
   "id": "268e095e",
   "metadata": {},
   "outputs": [
    {
     "name": "stdout",
     "output_type": "stream",
     "text": [
      "Juan\n",
      "Perez\n",
      "juan.perez@python.com\n",
      "Empleado\n"
     ]
    }
   ],
   "source": [
    "persona_2 = Empleado(nombre = \"Juan\", apellido = \"Perez\")\n",
    "\n",
    "print(persona_2.nombre)\n",
    "print(persona_2.apellido)\n",
    "print(persona_2.email)\n",
    "print(persona_2.puesto_trabajo)"
   ]
  },
  {
   "cell_type": "code",
   "execution_count": 20,
   "id": "9c4e92e3",
   "metadata": {},
   "outputs": [
    {
     "data": {
      "text/plain": [
       "'daniel'"
      ]
     },
     "execution_count": 20,
     "metadata": {},
     "output_type": "execute_result"
    }
   ],
   "source": [
    "# También podemos modificar los atributos aunque los hayamos inicializado con __init__\n",
    "\n",
    "persona.nombre = \"daniel\"\n",
    "\n",
    "persona.nombre"
   ]
  },
  {
   "cell_type": "markdown",
   "id": "e39e30e0",
   "metadata": {},
   "source": [
    "# Métodos\n",
    "\n",
    "**Los métodos son funciones propias de cada clase**, es decir, estos métodos solo funcionan con su clase.\n",
    "\n",
    "**Para crear métodos, basta con definir una función dentro de la clase**.\n",
    "\n",
    "Estas funciones pueden tomar o no parametros, sin embargo, **es obligatorio que el primer parametro de los métodos sea `self`** (aunque sea el único).\n",
    "\n",
    "- En caso de querer utilizar atributos del método **`__init__`** o **atributos estáticos**, podemos simplemente usar **`self`** como parametro del nuevo método y con esto podremos usar cualquier atributo de la clase (Ya sea de **`__init__`** o **estático**)."
   ]
  },
  {
   "cell_type": "code",
   "execution_count": 21,
   "id": "b61f22bc",
   "metadata": {},
   "outputs": [],
   "source": [
    "class Empleado:\n",
    "    \n",
    "    puesto_trabajo = \"Empleado\"\n",
    "    \n",
    "    def __init__(self, nombre, apellido):\n",
    "        self.nombre = nombre\n",
    "        self.apellido = apellido\n",
    "        self.email = \"{}.{}@python.com\".format(nombre.lower(), apellido.lower())\n",
    "        \n",
    "    def display_info(self):\n",
    "        print(\"Nombre: {}\".format(self.nombre))\n",
    "        print(\"Apellido: {}\".format(self.apellido))\n",
    "        print(\"Contacto: {}\".format(self.email))        \n",
    "        print(\"Puesto de trabajo: {}\".format(self.puesto_trabajo))\n",
    "        \n",
    "    def display_message(self):\n",
    "        print(\"Esta es la clase Empleado.\")\n",
    "        \n",
    "    def cambiar_puesto_trabajo(self, nuevo_puesto):\n",
    "        self.puesto_trabajo = nuevo_puesto"
   ]
  },
  {
   "cell_type": "code",
   "execution_count": 22,
   "id": "105a597b",
   "metadata": {},
   "outputs": [
    {
     "data": {
      "text/plain": [
       "<__main__.Empleado at 0x2620ab281f0>"
      ]
     },
     "execution_count": 22,
     "metadata": {},
     "output_type": "execute_result"
    }
   ],
   "source": [
    "persona = Empleado(nombre = \"Daniel\", apellido = \"Tummler\")\n",
    "\n",
    "persona"
   ]
  },
  {
   "cell_type": "code",
   "execution_count": 23,
   "id": "e296b0d1",
   "metadata": {},
   "outputs": [
    {
     "name": "stdout",
     "output_type": "stream",
     "text": [
      "Nombre: Daniel\n",
      "Apellido: Tummler\n",
      "Contacto: daniel.tummler@python.com\n",
      "Puesto de trabajo: Empleado\n"
     ]
    }
   ],
   "source": [
    "# Método .display_info()\n",
    "\n",
    "persona.display_info()"
   ]
  },
  {
   "cell_type": "code",
   "execution_count": 24,
   "id": "5e8d7b12",
   "metadata": {},
   "outputs": [
    {
     "name": "stdout",
     "output_type": "stream",
     "text": [
      "Esta es la clase Empleado.\n"
     ]
    }
   ],
   "source": [
    "# Método .display_message()\n",
    "\n",
    "persona.display_message()"
   ]
  },
  {
   "cell_type": "code",
   "execution_count": 25,
   "id": "901faf62",
   "metadata": {},
   "outputs": [
    {
     "data": {
      "text/plain": [
       "'Profesor'"
      ]
     },
     "execution_count": 25,
     "metadata": {},
     "output_type": "execute_result"
    }
   ],
   "source": [
    "# Método .cambiar_puesto_trabajo()\n",
    "\n",
    "persona.cambiar_puesto_trabajo(nuevo_puesto = \"Profesor\")\n",
    "\n",
    "persona.puesto_trabajo"
   ]
  },
  {
   "cell_type": "code",
   "execution_count": 26,
   "id": "1f91ab92",
   "metadata": {},
   "outputs": [
    {
     "name": "stdout",
     "output_type": "stream",
     "text": [
      "Nombre: Daniel\n",
      "Apellido: Tummler\n",
      "Contacto: daniel.tummler@python.com\n",
      "Puesto de trabajo: Profesor\n"
     ]
    }
   ],
   "source": [
    "# Método .display_info()\n",
    "\n",
    "persona.display_info()"
   ]
  },
  {
   "cell_type": "markdown",
   "id": "74e170e1",
   "metadata": {},
   "source": [
    "**Como los métodos son, en esencia, funciones, podemos hacer que nos retornen algún valor.**"
   ]
  },
  {
   "cell_type": "code",
   "execution_count": 27,
   "id": "b46925c4",
   "metadata": {},
   "outputs": [],
   "source": [
    "class Empleado:\n",
    "    \n",
    "    puesto_trabajo = \"Empleado\"\n",
    "    \n",
    "    def __init__(self, nombre, apellido):\n",
    "        self.nombre = nombre\n",
    "        self.apellido = apellido\n",
    "        self.email = \"{}.{}@python.com\".format(nombre.lower(), apellido.lower())\n",
    "        \n",
    "    def empleado_info_dict(self):\n",
    "        empleado_dict = {\"nombre\"         : self.nombre,\n",
    "                         \"apellido\"       : self.apellido,\n",
    "                         \"email\"          : self.email,\n",
    "                         \"puesto_trabajo\" : self.puesto_trabajo}\n",
    "        \n",
    "        return empleado_dict\n",
    "    \n",
    "    def display_info(self):\n",
    "        print(\"Nombre: {}\".format(self.nombre))\n",
    "        print(\"Apellido: {}\".format(self.apellido))\n",
    "        print(\"Contacto: {}\".format(self.email))        \n",
    "        print(\"Puesto de trabajo: {}\".format(self.puesto_trabajo))\n",
    "        \n",
    "    def display_message(self):\n",
    "        print(\"Esta es la clase Empleado.\")\n",
    "        \n",
    "    def cambiar_puesto_trabajo(self, nuevo_puesto):\n",
    "        self.puesto_trabajo = nuevo_puesto"
   ]
  },
  {
   "cell_type": "code",
   "execution_count": 28,
   "id": "df9c3a36",
   "metadata": {},
   "outputs": [],
   "source": [
    "persona = Empleado(nombre = \"Daniel\", apellido = \"Tummler\")"
   ]
  },
  {
   "cell_type": "code",
   "execution_count": 29,
   "id": "93e4eb66",
   "metadata": {},
   "outputs": [
    {
     "data": {
      "text/plain": [
       "{'nombre': 'Daniel',\n",
       " 'apellido': 'Tummler',\n",
       " 'email': 'daniel.tummler@python.com',\n",
       " 'puesto_trabajo': 'Empleado'}"
      ]
     },
     "execution_count": 29,
     "metadata": {},
     "output_type": "execute_result"
    }
   ],
   "source": [
    "persona.empleado_info_dict()"
   ]
  },
  {
   "cell_type": "code",
   "execution_count": 30,
   "id": "13559f72",
   "metadata": {},
   "outputs": [
    {
     "data": {
      "text/plain": [
       "['__class__',\n",
       " '__delattr__',\n",
       " '__dict__',\n",
       " '__dir__',\n",
       " '__doc__',\n",
       " '__eq__',\n",
       " '__format__',\n",
       " '__ge__',\n",
       " '__getattribute__',\n",
       " '__gt__',\n",
       " '__hash__',\n",
       " '__init__',\n",
       " '__init_subclass__',\n",
       " '__le__',\n",
       " '__lt__',\n",
       " '__module__',\n",
       " '__ne__',\n",
       " '__new__',\n",
       " '__reduce__',\n",
       " '__reduce_ex__',\n",
       " '__repr__',\n",
       " '__setattr__',\n",
       " '__sizeof__',\n",
       " '__str__',\n",
       " '__subclasshook__',\n",
       " '__weakref__',\n",
       " 'cambiar_puesto_trabajo',\n",
       " 'display_info',\n",
       " 'display_message',\n",
       " 'empleado_info_dict',\n",
       " 'puesto_trabajo']"
      ]
     },
     "execution_count": 30,
     "metadata": {},
     "output_type": "execute_result"
    }
   ],
   "source": [
    "dir(Empleado)"
   ]
  },
  {
   "cell_type": "markdown",
   "id": "bfc09e89",
   "metadata": {},
   "source": [
    "**Ejemplo 2:**"
   ]
  },
  {
   "cell_type": "code",
   "execution_count": 2,
   "id": "e8a3f651",
   "metadata": {},
   "outputs": [],
   "source": [
    "class Animal:\n",
    "    def __init__(self, color, n_patas, domestico = False):\n",
    "        self.color = color.title()\n",
    "        self.n_patas = n_patas\n",
    "        self.domestico = domestico\n",
    "        \n",
    "    def display_info(self):\n",
    "        print(\"Color:\", self.color)\n",
    "        print(\"Numero de patas:\", self.n_patas)\n",
    "        print(\"Animal Doméstico:\", self.domestico)\n",
    "        \n",
    "        try:\n",
    "            print(\"Nombre:\", self.nombre)\n",
    "        except:\n",
    "            pass\n",
    "            \n",
    "    def mascota(self):\n",
    "        if self.domestico == True:\n",
    "            nombre = input(\"Nombre de la mascota: \")\n",
    "            self.nombre = nombre.title()\n",
    "        else:\n",
    "            print(\"Es un animal salvaje. No puede tener nombre.\")"
   ]
  },
  {
   "cell_type": "code",
   "execution_count": 3,
   "id": "dc526c3a",
   "metadata": {},
   "outputs": [
    {
     "name": "stdout",
     "output_type": "stream",
     "text": [
      "Color: Marron\n",
      "Numero de patas: 4\n",
      "Animal Doméstico: True\n"
     ]
    }
   ],
   "source": [
    "perro = Animal(color = \"marron\", n_patas = 4, domestico = True)\n",
    "\n",
    "perro.display_info()"
   ]
  },
  {
   "cell_type": "code",
   "execution_count": 4,
   "id": "d33a84ff",
   "metadata": {},
   "outputs": [
    {
     "name": "stdout",
     "output_type": "stream",
     "text": [
      "Nombre de la mascota: \n"
     ]
    }
   ],
   "source": [
    "perro.mascota()"
   ]
  },
  {
   "cell_type": "code",
   "execution_count": 34,
   "id": "490cd783",
   "metadata": {},
   "outputs": [
    {
     "name": "stdout",
     "output_type": "stream",
     "text": [
      "Color: Marron\n",
      "Numero de patas: 4\n",
      "Animal Doméstico: True\n",
      "Nombre: \n"
     ]
    }
   ],
   "source": [
    "perro.display_info()"
   ]
  },
  {
   "cell_type": "code",
   "execution_count": 5,
   "id": "18ccca04",
   "metadata": {},
   "outputs": [
    {
     "name": "stdout",
     "output_type": "stream",
     "text": [
      "Color: Marron\n",
      "Numero de patas: 4\n",
      "Animal Doméstico: False\n"
     ]
    }
   ],
   "source": [
    "perro = Animal(color = \"marron\", n_patas = 4, domestico = False)\n",
    "\n",
    "perro.display_info()"
   ]
  },
  {
   "cell_type": "code",
   "execution_count": 36,
   "id": "755852a4",
   "metadata": {},
   "outputs": [
    {
     "name": "stdout",
     "output_type": "stream",
     "text": [
      "Es un animal salvaje. No puede tener nombre.\n"
     ]
    }
   ],
   "source": [
    "perro.mascota()"
   ]
  },
  {
   "cell_type": "markdown",
   "id": "7dd9d582",
   "metadata": {},
   "source": [
    "# Herencias (inheritance)\n",
    "\n",
    "**Las herencias nos permiten definir una clase a partir de otra ya creada**, esto significa que la clase \"hija\" **tendrá todos los atributos y métodos** de la clase \"padre\", **esta nueva clase también puede tener nuevos atributos y métodos, modificar los que haya heredado o eliminarlos**.\n",
    "\n",
    "\n",
    "Para crear una clase a partir de otra usamos la siguiente sintaxis:\n",
    "\n",
    "**`class NuevaClase(ViejaClase):`**"
   ]
  },
  {
   "cell_type": "code",
   "execution_count": 6,
   "id": "aaccd499",
   "metadata": {},
   "outputs": [],
   "source": [
    "# Clase Padre\n",
    "\n",
    "class Vehiculo:\n",
    "    def __init__(self, n_ruedas, n_puertas, tipo_motor, kms = 0):\n",
    "        self.n_ruedas = n_ruedas\n",
    "        self.n_puertas = n_puertas\n",
    "        self.tipo_motor = tipo_motor.title()\n",
    "        self.kms = [kms]\n",
    "        \n",
    "    def display_info(self):\n",
    "        print(\"Info. Vehiculo\")\n",
    "        print(\"Nº Ruedas: {}\".format(self.n_ruedas))\n",
    "        print(\"Nº Puertas: {}\".format(self.n_puertas))\n",
    "        print(\"Tipo de Motor (Eléctrico/Combustible/Hibrido): {}\".format(self.tipo_motor))\n",
    "        print(\"Total de Km's: {}\".format(sum(self.kms)))\n",
    "                  \n",
    "    def info_kms(self):\n",
    "        \n",
    "        km_dict = {}\n",
    "        \n",
    "        for num, km in enumerate(self.kms):\n",
    "            km_dict[num] = km\n",
    "            \n",
    "        return km_dict\n",
    "    \n",
    "    def recorrer_km(self, km_recorridos):\n",
    "        if type(km_recorridos) == int or type(km_recorridos) == float:\n",
    "            self.kms.append(km_recorridos)\n",
    "            print(\"El vehiculo recorrió {} km.\".format(km_recorridos))\n",
    "        else:\n",
    "            print(\"Formato no valido.\")\n",
    "            \n",
    "    def total_kms(self):\n",
    "        return sum(self.kms)"
   ]
  },
  {
   "cell_type": "code",
   "execution_count": 38,
   "id": "473750a7",
   "metadata": {},
   "outputs": [
    {
     "name": "stdout",
     "output_type": "stream",
     "text": [
      "Info. Vehiculo\n",
      "Nº Ruedas: 4\n",
      "Nº Puertas: 4\n",
      "Tipo de Motor (Eléctrico/Combustible/Hibrido): Combustible\n",
      "Total de Km's: 0\n"
     ]
    }
   ],
   "source": [
    "coche = Vehiculo(n_ruedas = 4, n_puertas = 4, tipo_motor = \"Combustible\", kms = 0)\n",
    "\n",
    "coche.display_info()"
   ]
  },
  {
   "cell_type": "code",
   "execution_count": 39,
   "id": "494431f3",
   "metadata": {},
   "outputs": [
    {
     "data": {
      "text/plain": [
       "{0: 0}"
      ]
     },
     "execution_count": 39,
     "metadata": {},
     "output_type": "execute_result"
    }
   ],
   "source": [
    "coche.info_kms()"
   ]
  },
  {
   "cell_type": "code",
   "execution_count": 40,
   "id": "fb82ad02",
   "metadata": {},
   "outputs": [
    {
     "name": "stdout",
     "output_type": "stream",
     "text": [
      "El vehiculo recorrió 1000 km.\n"
     ]
    }
   ],
   "source": [
    "coche.recorrer_km(1000)"
   ]
  },
  {
   "cell_type": "code",
   "execution_count": 41,
   "id": "f383bc27",
   "metadata": {},
   "outputs": [
    {
     "data": {
      "text/plain": [
       "{0: 0, 1: 1000}"
      ]
     },
     "execution_count": 41,
     "metadata": {},
     "output_type": "execute_result"
    }
   ],
   "source": [
    "coche.info_kms()"
   ]
  },
  {
   "cell_type": "code",
   "execution_count": 42,
   "id": "15689ae1",
   "metadata": {},
   "outputs": [
    {
     "data": {
      "text/plain": [
       "1000"
      ]
     },
     "execution_count": 42,
     "metadata": {},
     "output_type": "execute_result"
    }
   ],
   "source": [
    "coche.total_kms()"
   ]
  },
  {
   "cell_type": "code",
   "execution_count": 43,
   "id": "7878dfcf",
   "metadata": {},
   "outputs": [
    {
     "data": {
      "text/plain": [
       "[0, 1000]"
      ]
     },
     "execution_count": 43,
     "metadata": {},
     "output_type": "execute_result"
    }
   ],
   "source": [
    "coche.kms"
   ]
  },
  {
   "cell_type": "code",
   "execution_count": 44,
   "id": "931e1762",
   "metadata": {},
   "outputs": [],
   "source": [
    "class Coche(Vehiculo):\n",
    "    pass\n",
    "\n",
    "# En este ejemplo, la clase Coche hereda todos los atributos y métodos de Vehiculo\n",
    "# Aunque con eso, para inicializar una instancia, tendremos que darle los mismos parametros que la clase Vehiculo."
   ]
  },
  {
   "cell_type": "code",
   "execution_count": 45,
   "id": "b069c530",
   "metadata": {},
   "outputs": [
    {
     "name": "stdout",
     "output_type": "stream",
     "text": [
      "<class '__main__.Coche'>\n"
     ]
    }
   ],
   "source": [
    "mi_coche = Coche(n_ruedas = 4, n_puertas = 4, tipo_motor = \"Eléctrico\", kms = 1000)\n",
    "\n",
    "print(type(mi_coche))"
   ]
  },
  {
   "cell_type": "code",
   "execution_count": 46,
   "id": "0f0b60ce",
   "metadata": {},
   "outputs": [
    {
     "name": "stdout",
     "output_type": "stream",
     "text": [
      "Info. Vehiculo\n",
      "Nº Ruedas: 4\n",
      "Nº Puertas: 4\n",
      "Tipo de Motor (Eléctrico/Combustible/Hibrido): Eléctrico\n",
      "Total de Km's: 1000\n"
     ]
    }
   ],
   "source": [
    "mi_coche.display_info()"
   ]
  },
  {
   "cell_type": "code",
   "execution_count": 47,
   "id": "424d5a2e",
   "metadata": {},
   "outputs": [
    {
     "data": {
      "text/plain": [
       "{0: 1000}"
      ]
     },
     "execution_count": 47,
     "metadata": {},
     "output_type": "execute_result"
    }
   ],
   "source": [
    "mi_coche.info_kms()"
   ]
  },
  {
   "cell_type": "code",
   "execution_count": 48,
   "id": "b26b86fa",
   "metadata": {},
   "outputs": [],
   "source": [
    "# Ahora, podemos agregar nuevos métodos a la clase Coche, para hacerla diferente a la clase Vehiculo\n",
    "\n",
    "class Coche(Vehiculo):\n",
    "    \n",
    "    def coche_info(self):\n",
    "        print(\"Este vehiculo es un coche.\")"
   ]
  },
  {
   "cell_type": "code",
   "execution_count": 49,
   "id": "8a96ff6a",
   "metadata": {},
   "outputs": [
    {
     "name": "stdout",
     "output_type": "stream",
     "text": [
      "Este vehiculo es un coche.\n"
     ]
    }
   ],
   "source": [
    "mi_coche = Coche(n_ruedas = 4, n_puertas = 4, tipo_motor = \"Eléctrico\", kms = 1000)\n",
    "\n",
    "mi_coche.coche_info()"
   ]
  },
  {
   "cell_type": "code",
   "execution_count": 50,
   "id": "e92c0517",
   "metadata": {
    "scrolled": true
   },
   "outputs": [
    {
     "data": {
      "text/plain": [
       "['__class__',\n",
       " '__delattr__',\n",
       " '__dict__',\n",
       " '__dir__',\n",
       " '__doc__',\n",
       " '__eq__',\n",
       " '__format__',\n",
       " '__ge__',\n",
       " '__getattribute__',\n",
       " '__gt__',\n",
       " '__hash__',\n",
       " '__init__',\n",
       " '__init_subclass__',\n",
       " '__le__',\n",
       " '__lt__',\n",
       " '__module__',\n",
       " '__ne__',\n",
       " '__new__',\n",
       " '__reduce__',\n",
       " '__reduce_ex__',\n",
       " '__repr__',\n",
       " '__setattr__',\n",
       " '__sizeof__',\n",
       " '__str__',\n",
       " '__subclasshook__',\n",
       " '__weakref__',\n",
       " 'coche_info',\n",
       " 'display_info',\n",
       " 'info_kms',\n",
       " 'recorrer_km',\n",
       " 'total_kms']"
      ]
     },
     "execution_count": 50,
     "metadata": {},
     "output_type": "execute_result"
    }
   ],
   "source": [
    "# Ahora la clase Coche tiene el método coche_info() y los otros 4 heredadas de Vehiculo.\n",
    "\n",
    "dir(Coche)"
   ]
  },
  {
   "cell_type": "markdown",
   "id": "ee51e797",
   "metadata": {},
   "source": [
    "**Ahora, si quisieramos agregar nuevos atributos podemos tomar 2 caminos:**\n",
    "1. Eliminar los atributos anteriores y crear nuevos.\n",
    "2. Mantener los atributos anteriores y crear nuevos."
   ]
  },
  {
   "cell_type": "code",
   "execution_count": 51,
   "id": "6d6b6503",
   "metadata": {},
   "outputs": [],
   "source": [
    "# 1. Para eliminar los atributos anteriores y agregar nuevos, basta con sobreescribir la función __init__\n",
    "\n",
    "class Coche(Vehiculo):\n",
    "    \n",
    "    def __init__(self, color, marca):\n",
    "        self.color = color\n",
    "        self.marca = marca\n",
    "        \n",
    "# Esto no modifica los métodos existentes\n",
    "# Pero si alguno de esos métodos utiliza atributos que ya no existen nos dará error"
   ]
  },
  {
   "cell_type": "code",
   "execution_count": 52,
   "id": "c6d1639e",
   "metadata": {},
   "outputs": [],
   "source": [
    "mi_coche = Coche(\"Azul\", \"Honda\")"
   ]
  },
  {
   "cell_type": "code",
   "execution_count": 53,
   "id": "e9ea09fe",
   "metadata": {},
   "outputs": [
    {
     "name": "stdout",
     "output_type": "stream",
     "text": [
      "Info. Vehiculo\n"
     ]
    },
    {
     "ename": "AttributeError",
     "evalue": "'Coche' object has no attribute 'n_ruedas'",
     "output_type": "error",
     "traceback": [
      "\u001b[1;31m---------------------------------------------------------------------------\u001b[0m",
      "\u001b[1;31mAttributeError\u001b[0m                            Traceback (most recent call last)",
      "\u001b[1;32m<ipython-input-53-99d8fc32688d>\u001b[0m in \u001b[0;36m<module>\u001b[1;34m\u001b[0m\n\u001b[1;32m----> 1\u001b[1;33m \u001b[0mmi_coche\u001b[0m\u001b[1;33m.\u001b[0m\u001b[0mdisplay_info\u001b[0m\u001b[1;33m(\u001b[0m\u001b[1;33m)\u001b[0m\u001b[1;33m\u001b[0m\u001b[1;33m\u001b[0m\u001b[0m\n\u001b[0m",
      "\u001b[1;32m<ipython-input-37-46693ba7657f>\u001b[0m in \u001b[0;36mdisplay_info\u001b[1;34m(self)\u001b[0m\n\u001b[0;32m      8\u001b[0m     \u001b[1;32mdef\u001b[0m \u001b[0mdisplay_info\u001b[0m\u001b[1;33m(\u001b[0m\u001b[0mself\u001b[0m\u001b[1;33m)\u001b[0m\u001b[1;33m:\u001b[0m\u001b[1;33m\u001b[0m\u001b[1;33m\u001b[0m\u001b[0m\n\u001b[0;32m      9\u001b[0m         \u001b[0mprint\u001b[0m\u001b[1;33m(\u001b[0m\u001b[1;34m\"Info. Vehiculo\"\u001b[0m\u001b[1;33m)\u001b[0m\u001b[1;33m\u001b[0m\u001b[1;33m\u001b[0m\u001b[0m\n\u001b[1;32m---> 10\u001b[1;33m         \u001b[0mprint\u001b[0m\u001b[1;33m(\u001b[0m\u001b[1;34m\"Nº Ruedas: {}\"\u001b[0m\u001b[1;33m.\u001b[0m\u001b[0mformat\u001b[0m\u001b[1;33m(\u001b[0m\u001b[0mself\u001b[0m\u001b[1;33m.\u001b[0m\u001b[0mn_ruedas\u001b[0m\u001b[1;33m)\u001b[0m\u001b[1;33m)\u001b[0m\u001b[1;33m\u001b[0m\u001b[1;33m\u001b[0m\u001b[0m\n\u001b[0m\u001b[0;32m     11\u001b[0m         \u001b[0mprint\u001b[0m\u001b[1;33m(\u001b[0m\u001b[1;34m\"Nº Puertas: {}\"\u001b[0m\u001b[1;33m.\u001b[0m\u001b[0mformat\u001b[0m\u001b[1;33m(\u001b[0m\u001b[0mself\u001b[0m\u001b[1;33m.\u001b[0m\u001b[0mn_puertas\u001b[0m\u001b[1;33m)\u001b[0m\u001b[1;33m)\u001b[0m\u001b[1;33m\u001b[0m\u001b[1;33m\u001b[0m\u001b[0m\n\u001b[0;32m     12\u001b[0m         \u001b[0mprint\u001b[0m\u001b[1;33m(\u001b[0m\u001b[1;34m\"Tipo de Motor (Eléctrico/Combustible/Hibrido): {}\"\u001b[0m\u001b[1;33m.\u001b[0m\u001b[0mformat\u001b[0m\u001b[1;33m(\u001b[0m\u001b[0mself\u001b[0m\u001b[1;33m.\u001b[0m\u001b[0mtipo_motor\u001b[0m\u001b[1;33m)\u001b[0m\u001b[1;33m)\u001b[0m\u001b[1;33m\u001b[0m\u001b[1;33m\u001b[0m\u001b[0m\n",
      "\u001b[1;31mAttributeError\u001b[0m: 'Coche' object has no attribute 'n_ruedas'"
     ]
    }
   ],
   "source": [
    "# Éste método utiliza un atributo que ya no existe en la clase Coche\n",
    "\n",
    "mi_coche.display_info()"
   ]
  },
  {
   "cell_type": "code",
   "execution_count": 54,
   "id": "80242130",
   "metadata": {},
   "outputs": [],
   "source": [
    "# 2. Para mantener los atributos de la clase Padre y agregar nuevos\n",
    "# Usamos una combinación entre __init__ y la función super()\n",
    "\n",
    "class Coche(Vehiculo):\n",
    "    def __init__(self, n_ruedas, n_puertas, tipo_motor, color, marca, kms = 0):\n",
    "        super().__init__(n_ruedas, n_puertas, tipo_motor)\n",
    "        self.color = color\n",
    "        self.marca = marca\n",
    "        \n",
    "    def coche_info(self):\n",
    "        print(\"Este vehiculo es un coche.\")\n",
    "        \n",
    "# La función super().__init__() ejecutará el código del método __init__ de la clase Padre\n",
    "# Por eso, solo haría falta definir color y marca (que son los 2 nuevos atributos de la clase Coche)\n",
    "\n",
    "# Nota: Los parametros por defecto no son necesarios inicializarlos con super().__init__()\n",
    "\n",
    "# Esta nueva clase Coche mantiene los atributos y los métodos de Vehiculo\n",
    "# Además de agregar otro nuevo método."
   ]
  },
  {
   "cell_type": "code",
   "execution_count": 55,
   "id": "8dcd3f6e",
   "metadata": {},
   "outputs": [
    {
     "data": {
      "text/plain": [
       "<__main__.Coche at 0x2620ab379a0>"
      ]
     },
     "execution_count": 55,
     "metadata": {},
     "output_type": "execute_result"
    }
   ],
   "source": [
    "mi_coche = Coche(n_ruedas = 4, n_puertas = 4, tipo_motor = \"Combustible\", color = \"Azul\", marca = \"Honda\", kms = 0)\n",
    "\n",
    "mi_coche"
   ]
  },
  {
   "cell_type": "code",
   "execution_count": 56,
   "id": "ac143678",
   "metadata": {},
   "outputs": [
    {
     "name": "stdout",
     "output_type": "stream",
     "text": [
      "Info. Vehiculo\n",
      "Nº Ruedas: 4\n",
      "Nº Puertas: 4\n",
      "Tipo de Motor (Eléctrico/Combustible/Hibrido): Combustible\n",
      "Total de Km's: 0\n"
     ]
    }
   ],
   "source": [
    "mi_coche.display_info()"
   ]
  },
  {
   "cell_type": "code",
   "execution_count": 57,
   "id": "22a1937d",
   "metadata": {},
   "outputs": [
    {
     "name": "stdout",
     "output_type": "stream",
     "text": [
      "Este vehiculo es un coche.\n"
     ]
    }
   ],
   "source": [
    "mi_coche.coche_info()"
   ]
  },
  {
   "cell_type": "code",
   "execution_count": 58,
   "id": "6625be5b",
   "metadata": {},
   "outputs": [
    {
     "data": {
      "text/plain": [
       "'Azul'"
      ]
     },
     "execution_count": 58,
     "metadata": {},
     "output_type": "execute_result"
    }
   ],
   "source": [
    "mi_coche.color"
   ]
  },
  {
   "cell_type": "code",
   "execution_count": 59,
   "id": "5397893e",
   "metadata": {},
   "outputs": [
    {
     "data": {
      "text/plain": [
       "'Honda'"
      ]
     },
     "execution_count": 59,
     "metadata": {},
     "output_type": "execute_result"
    }
   ],
   "source": [
    "mi_coche.marca"
   ]
  },
  {
   "cell_type": "code",
   "execution_count": 60,
   "id": "900ff075",
   "metadata": {},
   "outputs": [],
   "source": [
    "from time import sleep\n",
    "from random import randint\n",
    "\n",
    "# Ahora vamos a agragarle más métodos y atributos a la clase Coche\n",
    "\n",
    "# Nota: Si quisieramos usar un método de la clase dentro de otro método, tendremos que utilizar \n",
    "# self para que Python entienda que es un método propio de esa clase.\n",
    "\n",
    "class Coche(Vehiculo):\n",
    "    def __init__(self, n_ruedas, n_puertas, tipo_motor, color, marca, kms = 0):\n",
    "        super().__init__(n_ruedas, n_puertas, tipo_motor)\n",
    "        self.color = color\n",
    "        self.marca = marca\n",
    "        \n",
    "        self.historial_color = {0 : color}\n",
    "        self.condicion_ruedas = 10\n",
    "        self.condicion_aceite = 10\n",
    "        self.limpieza = 10\n",
    "        self.gastos_totales = 0\n",
    "        \n",
    "        self.cond_general = sum([self.condicion_ruedas, self.condicion_aceite, self.limpieza])\n",
    "        \n",
    "    def coche_info(self):\n",
    "        print(\"Condiciones del coche:\")\n",
    "        print(\"Condición de las ruedas: {}\".format(self.condicion_ruedas))\n",
    "        print(\"Condición del aceite: {}\".format(self.condicion_aceite))\n",
    "        print(\"Limpieza General: {}\".format(self.limpieza))\n",
    "        print(\"KM TOTALES: {}\".format(sum(self.kms)))\n",
    "        print(\"GASTOS TOTALES: {}\".format(self.gastos_totales))\n",
    "        print(\"CONDICION GENERAL: {}\".format(self.cond_general))\n",
    "        \n",
    "    def cambiar_color(self, color):\n",
    "        self.color = color\n",
    "        \n",
    "        self.historial_color[len(self.historial_color)] = color\n",
    "        \n",
    "    def calcular_cond_general(self):\n",
    "        \n",
    "        self.cond_general = round(sum([self.condicion_ruedas, self.condicion_aceite, self.limpieza]), 2)\n",
    "        \n",
    "    def paseo_corto(self):\n",
    "        print(\"Estás tomando un paseo corto...\")\n",
    "        sleep(3)\n",
    "        self.condicion_ruedas -= 0.05\n",
    "        self.condicion_aceite -= 0.01\n",
    "        self.limpieza -= 0.1\n",
    "        self.kms.append(randint(10, 20))\n",
    "        \n",
    "        self.calcular_cond_general()\n",
    "        \n",
    "        self.coche_info()\n",
    "        \n",
    "    def paseo_largo(self):\n",
    "        print(\"Estás tomando un paseo largo...\")\n",
    "        sleep(10)\n",
    "        \n",
    "        self.condicion_ruedas -= 2\n",
    "        self.condicion_aceite -= 1\n",
    "        self.limpieza -= 2\n",
    "        self.kms.append(randint(50, 100))\n",
    "        \n",
    "        self.calcular_cond_general()\n",
    "        \n",
    "        self.coche_info()\n",
    "        \n",
    "    def limpiar_coche(self):\n",
    "        print(\"Limpiando coche...\")\n",
    "        self.gastos_totales += 100\n",
    "        \n",
    "        sleep(3)\n",
    "        \n",
    "        self.limpieza = 10\n",
    "        print(\"Coche limpio.\")\n",
    "        \n",
    "        self.calcular_cond_general()\n",
    "        \n",
    "        self.coche_info()\n",
    "        \n",
    "    def mantenimiento(self):\n",
    "        print(\"Estamos haciendo mantenimiento...\")\n",
    "        self.gastos_totales += 1000\n",
    "        sleep(5)\n",
    "        \n",
    "        self.condicion_ruedas = 10\n",
    "        self.condicion_aceite = 10\n",
    "        \n",
    "        self.calcular_cond_general()\n",
    "        \n",
    "        self.coche_info()"
   ]
  },
  {
   "cell_type": "code",
   "execution_count": 61,
   "id": "7302d15a",
   "metadata": {},
   "outputs": [],
   "source": [
    "mi_coche = Coche(n_ruedas = 4, n_puertas = 4, tipo_motor = \"Combustible\", color = \"Azul\", marca = \"Honda\")"
   ]
  },
  {
   "cell_type": "code",
   "execution_count": 62,
   "id": "4f721bf9",
   "metadata": {},
   "outputs": [
    {
     "name": "stdout",
     "output_type": "stream",
     "text": [
      "Condiciones del coche:\n",
      "Condición de las ruedas: 10\n",
      "Condición del aceite: 10\n",
      "Limpieza General: 10\n",
      "KM TOTALES: 0\n",
      "GASTOS TOTALES: 0\n",
      "CONDICION GENERAL: 30\n"
     ]
    }
   ],
   "source": [
    "mi_coche.coche_info()"
   ]
  },
  {
   "cell_type": "code",
   "execution_count": 63,
   "id": "d55c85a4",
   "metadata": {},
   "outputs": [
    {
     "name": "stdout",
     "output_type": "stream",
     "text": [
      "Estás tomando un paseo corto...\n",
      "Condiciones del coche:\n",
      "Condición de las ruedas: 9.95\n",
      "Condición del aceite: 9.99\n",
      "Limpieza General: 9.9\n",
      "KM TOTALES: 14\n",
      "GASTOS TOTALES: 0\n",
      "CONDICION GENERAL: 29.84\n"
     ]
    }
   ],
   "source": [
    "mi_coche.paseo_corto()"
   ]
  },
  {
   "cell_type": "code",
   "execution_count": 70,
   "id": "3f5e7e73",
   "metadata": {},
   "outputs": [
    {
     "name": "stdout",
     "output_type": "stream",
     "text": [
      "Estás tomando un paseo largo...\n",
      "Condiciones del coche:\n",
      "Condición de las ruedas: 5.949999999999999\n",
      "Condición del aceite: 7.99\n",
      "Limpieza General: 5.9\n",
      "KM TOTALES: 120\n",
      "GASTOS TOTALES: 0\n",
      "CONDICION GENERAL: 19.84\n"
     ]
    }
   ],
   "source": [
    "mi_coche.paseo_largo()"
   ]
  },
  {
   "cell_type": "code",
   "execution_count": 65,
   "id": "ec9d8a79",
   "metadata": {},
   "outputs": [
    {
     "data": {
      "text/plain": [
       "[0, 14, 52]"
      ]
     },
     "execution_count": 65,
     "metadata": {},
     "output_type": "execute_result"
    }
   ],
   "source": [
    "mi_coche.kms"
   ]
  },
  {
   "cell_type": "code",
   "execution_count": 66,
   "id": "9e38fede",
   "metadata": {},
   "outputs": [
    {
     "data": {
      "text/plain": [
       "{0: 0, 1: 14, 2: 52}"
      ]
     },
     "execution_count": 66,
     "metadata": {},
     "output_type": "execute_result"
    }
   ],
   "source": [
    "mi_coche.info_kms()"
   ]
  },
  {
   "cell_type": "code",
   "execution_count": 67,
   "id": "fb909829",
   "metadata": {},
   "outputs": [],
   "source": [
    "mi_coche.cambiar_color(\"Amarillo\")"
   ]
  },
  {
   "cell_type": "code",
   "execution_count": 68,
   "id": "e6aa4d9f",
   "metadata": {},
   "outputs": [
    {
     "data": {
      "text/plain": [
       "{0: 'Azul', 1: 'Amarillo'}"
      ]
     },
     "execution_count": 68,
     "metadata": {},
     "output_type": "execute_result"
    }
   ],
   "source": [
    "mi_coche.historial_color"
   ]
  },
  {
   "cell_type": "code",
   "execution_count": 69,
   "id": "15ef425a",
   "metadata": {},
   "outputs": [
    {
     "data": {
      "text/plain": [
       "'Amarillo'"
      ]
     },
     "execution_count": 69,
     "metadata": {},
     "output_type": "execute_result"
    }
   ],
   "source": [
    "mi_coche.color"
   ]
  },
  {
   "cell_type": "code",
   "execution_count": null,
   "id": "5aa5b1ec",
   "metadata": {},
   "outputs": [],
   "source": [
    "################################################################################################################################"
   ]
  }
 ],
 "metadata": {
  "kernelspec": {
   "display_name": "Python 3",
   "language": "python",
   "name": "python3"
  },
  "language_info": {
   "codemirror_mode": {
    "name": "ipython",
    "version": 3
   },
   "file_extension": ".py",
   "mimetype": "text/x-python",
   "name": "python",
   "nbconvert_exporter": "python",
   "pygments_lexer": "ipython3",
   "version": "3.8.8"
  }
 },
 "nbformat": 4,
 "nbformat_minor": 5
}
