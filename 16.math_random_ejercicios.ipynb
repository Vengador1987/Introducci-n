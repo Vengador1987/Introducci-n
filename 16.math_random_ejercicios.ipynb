{
 "cells": [
  {
   "cell_type": "markdown",
   "id": "3b9c8335",
   "metadata": {},
   "source": [
    "## Ejercicios math y random"
   ]
  },
  {
   "cell_type": "code",
   "execution_count": null,
   "id": "ed13011e",
   "metadata": {},
   "outputs": [],
   "source": [
    "import math\n",
    "import random"
   ]
  },
  {
   "cell_type": "markdown",
   "id": "eca8b13f",
   "metadata": {},
   "source": [
    "### Ejercicio 1\n",
    "- Crea una lista de 10 numeros enteros aleatorios entre el rango de 10 y 20 utilizando la función random.randint()"
   ]
  },
  {
   "cell_type": "code",
   "execution_count": null,
   "id": "a9c5468a",
   "metadata": {},
   "outputs": [],
   "source": []
  },
  {
   "cell_type": "code",
   "execution_count": null,
   "id": "91329916",
   "metadata": {},
   "outputs": [],
   "source": []
  },
  {
   "cell_type": "code",
   "execution_count": null,
   "id": "afeb807a",
   "metadata": {},
   "outputs": [],
   "source": []
  },
  {
   "cell_type": "markdown",
   "id": "fc1a19d0",
   "metadata": {},
   "source": [
    "### Ejercicio 2\n",
    "- Crea una lista de 10 numeros enteros aleatorios entre el rango de 10 y 20 sin utilizar la función random.randint()"
   ]
  },
  {
   "cell_type": "code",
   "execution_count": null,
   "id": "0985d30a",
   "metadata": {},
   "outputs": [],
   "source": []
  },
  {
   "cell_type": "code",
   "execution_count": null,
   "id": "b04bcddf",
   "metadata": {},
   "outputs": [],
   "source": []
  },
  {
   "cell_type": "code",
   "execution_count": null,
   "id": "07139a13",
   "metadata": {},
   "outputs": [],
   "source": []
  },
  {
   "cell_type": "markdown",
   "id": "381a2b23",
   "metadata": {},
   "source": [
    "### Ejercicio 3\n",
    "- Genera una lista de 100 numero enteros aleatorios entre 0 y 100.\n",
    "- Genera otra lista con solo los números pares de la primera lista.\n",
    "\n",
    "- Extra: Hacer este ejercicio usando 1 solo bucle."
   ]
  },
  {
   "cell_type": "code",
   "execution_count": null,
   "id": "ed54e490",
   "metadata": {},
   "outputs": [],
   "source": []
  },
  {
   "cell_type": "code",
   "execution_count": null,
   "id": "570ff2b3",
   "metadata": {},
   "outputs": [],
   "source": []
  },
  {
   "cell_type": "code",
   "execution_count": null,
   "id": "8ac4e27c",
   "metadata": {},
   "outputs": [],
   "source": []
  },
  {
   "cell_type": "markdown",
   "id": "576a3ad4",
   "metadata": {},
   "source": [
    "### Ejercicio 4\n",
    "- Escribe la siguiente función utilizando las funciónes de la libreria math:\n",
    "\n",
    "![math_1](math_1.png)\n",
    "![math_2](math_2.png)\n",
    "\n",
    "- Luego prueba la función con los valores de X."
   ]
  },
  {
   "cell_type": "code",
   "execution_count": null,
   "id": "ed901e37",
   "metadata": {},
   "outputs": [],
   "source": [
    "x = [10, 15, 25, 35, 45]"
   ]
  },
  {
   "cell_type": "code",
   "execution_count": null,
   "id": "33621a2c",
   "metadata": {},
   "outputs": [],
   "source": [
    "for X in x:\n",
    "    Z = \n",
    "    print(Z)"
   ]
  },
  {
   "cell_type": "code",
   "execution_count": null,
   "id": "97be855b",
   "metadata": {},
   "outputs": [],
   "source": []
  },
  {
   "cell_type": "markdown",
   "id": "cbf0faef",
   "metadata": {},
   "source": [
    "### Ejercicio 5\n",
    "- Escribe la siguiente función utilizando las funciónes de la libreria math:\n",
    "\n",
    "![math_3](math_3.png)\n",
    "![math_4](math_4.png)\n",
    "\n",
    "- Luego prueba la función con los valores de X e Y."
   ]
  },
  {
   "cell_type": "code",
   "execution_count": null,
   "id": "2190d7a4",
   "metadata": {},
   "outputs": [],
   "source": [
    "x = [10, 15, 25, 35, 45] \n",
    "y = [15, 20, 30, 40, 50]"
   ]
  },
  {
   "cell_type": "code",
   "execution_count": null,
   "id": "f65f0c36",
   "metadata": {},
   "outputs": [],
   "source": [
    "for X, Y in zip(x, y):\n",
    "    Z = \n",
    "    print(Z)"
   ]
  },
  {
   "cell_type": "code",
   "execution_count": null,
   "id": "963ecd2c",
   "metadata": {},
   "outputs": [],
   "source": []
  },
  {
   "cell_type": "markdown",
   "id": "2cf9fcc4",
   "metadata": {},
   "source": [
    "### Ejercicio 6\n",
    "- Escribe la siguiente función utilizando las funciónes de la libreria math:\n",
    "![math_5](math_5.png)\n",
    "![math_6](math_6.png)\n",
    "\n",
    "- Luego prueba la función con los valores de X e Y."
   ]
  },
  {
   "cell_type": "code",
   "execution_count": null,
   "id": "d2a14860",
   "metadata": {},
   "outputs": [],
   "source": [
    "x = [10, 15, 25, 35, 45] \n",
    "y = [15, 20, 30, 40, 50]"
   ]
  },
  {
   "cell_type": "code",
   "execution_count": null,
   "id": "2656ee47",
   "metadata": {},
   "outputs": [],
   "source": [
    "for X, Y in zip(x, y):\n",
    "    Z = \n",
    "    print(Z)"
   ]
  },
  {
   "cell_type": "code",
   "execution_count": null,
   "id": "c4be16b7",
   "metadata": {},
   "outputs": [],
   "source": []
  },
  {
   "cell_type": "markdown",
   "id": "3b20c494",
   "metadata": {},
   "source": [
    "### Ejercicio 7\n",
    "- Escribe la siguiente función utilizando las funciónes de la libreria math:\n",
    "\n",
    "![math_7](math_7.png)\n",
    "![math_8](math_8.png)\n",
    "\n",
    "- Luego prueba la función con los valores de X e Y."
   ]
  },
  {
   "cell_type": "code",
   "execution_count": null,
   "id": "13b9f3cd",
   "metadata": {},
   "outputs": [],
   "source": [
    "x = [10, 15, 25, 35, 45] \n",
    "y = [15, 20, 30, 40, 50]"
   ]
  },
  {
   "cell_type": "code",
   "execution_count": null,
   "id": "fd22b843",
   "metadata": {},
   "outputs": [],
   "source": [
    "for X, Y in zip(x, y):\n",
    "    Z = \n",
    "    print(Z)"
   ]
  },
  {
   "cell_type": "code",
   "execution_count": null,
   "id": "3989b760",
   "metadata": {},
   "outputs": [],
   "source": []
  }
 ],
 "metadata": {
  "kernelspec": {
   "display_name": "Python 3",
   "language": "python",
   "name": "python3"
  },
  "language_info": {
   "codemirror_mode": {
    "name": "ipython",
    "version": 3
   },
   "file_extension": ".py",
   "mimetype": "text/x-python",
   "name": "python",
   "nbconvert_exporter": "python",
   "pygments_lexer": "ipython3",
   "version": "3.8.8"
  }
 },
 "nbformat": 4,
 "nbformat_minor": 5
}
