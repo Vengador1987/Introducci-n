{
 "cells": [
  {
   "cell_type": "markdown",
   "id": "fcda8787",
   "metadata": {},
   "source": [
    "## Programación Orientada a Objetos Ejercicios"
   ]
  },
  {
   "cell_type": "markdown",
   "id": "d9ec0018",
   "metadata": {},
   "source": [
    "### Ejercicio 1:\n",
    "- Define una clase con el nombre **`CuentaBancaria`**:\n",
    "\n",
    "1. Parametros: esta clase va a tomar los parametros: **`nombre`**, **`apellido`**, **`dni`**, **`tipo_cuenta`**.\n",
    "- **`tipo_cuenta`** puede ser **\"Debito\"** o **\"Credito\"**.\n",
    "- Define estos parametros en la clase como atributos con el mismo nombre:\n",
    "    - **Ejemplo:** **`self.nombre = nombre`**\n",
    "            \n",
    "================================================================================================================================            \n",
    "\n",
    "2. Atributos: además de los atributos creados en base a los parametros, inicializa los siguientes:\n",
    "- **`email`** que sera un string con la siguiente forma **`nombre.apellido@python.com`** (todo en minúsculas).\n",
    "- **`balance`** que sera un número flotante aleatorio entre 100 y 1000.\n",
    "- **`id_usuario`** que sera un **número aleatorio entre 1000000 y 9999999**.\n",
    "    \n",
    "===============================================================================================================================\n",
    "        \n",
    "3. Métodos:\n",
    "- **`usuario_info()`** que no tome parametros y que imprima por pantalla los datos de la persona (**`nombre`**, **`apellido`**, **`email`**, **`dni`**, **`id_usuario`** y **`tipo_cuenta`**)\n",
    "\n",
    "\n",
    "- **`mostrar_balance()`** que no tome parametros y que imprima por pantalla el balance actual de la persona, si el balance es negativo que imprima una advertencia.\n",
    "\n",
    "\n",
    "- **`ingresar()`** que tome como parametro un número positvo (**`ingreso`**) y que modifique el valor del atributo **`balance`** sumandole el valor de **`ingreso`**, luego que llame al método **`mostrar_balance()`**.\n",
    "\n",
    "\n",
    "- **`hacer_bizum()`** que tome como parametro un número positvo (**`bizum`**) y que haga lo siguiente:\n",
    "    - Verifique que **`balance`** >= **`bizum`**.\n",
    "    - Si se cumple la condición entonces que imprima por pantalla **`Bizum realizado con exito`** y que modifique el valor del atributo **`balance`** restandole el valor de **`bizum`**.\n",
    "    - Si no se cumple la condición entonces que imprima por pantalla **`No se puede realizar el bizum, fondos insuficientes`**.\n",
    "    - Luego que llame al método **`mostrar_balance()`**.\n",
    "\n",
    "\n",
    "- **`cambiar_cuenta()`** que no tome parametros de entrada y que al ejecutarse modifique el atributo **`tipo_cuenta`**:\n",
    "    - Si estaba en **Debito** que se cambie por **Credito**.\n",
    "    - Si estaba en **Credito** que se cambie por **Debito**.\n",
    "    - Que imprima por pantalla **`Tu tipo de cuenta ha sido cambiada con exito.`**\n",
    "    \n",
    "- **`exportar_datos()`** que no tome parametros de entrada y que retorne un diccionario con los datos del usuario (**`nombre`**, **`apellido`**, **`email`**, **`dni`**, **`tipo_cuenta`**, **`balance`**).\n",
    "\n",
    "===============================================================================================================================\n",
    "\n",
    "\n",
    "**Inicializa una instacia de esta clase, ejecuta todos los métodos y atributos para verificar que funciona correctamente.**\n",
    "\n",
    "**Define cualquier otro método que se te ocurra.**"
   ]
  },
  {
   "cell_type": "code",
   "execution_count": 69,
   "id": "3cbac081-8c70-45db-94ed-6860d82f0679",
   "metadata": {},
   "outputs": [],
   "source": [
    "import random\n",
    "class CuentaBancaria:\n",
    "  \n",
    "    \n",
    "    balance = float(random.randint(100, 1000))\n",
    "    id_usuario = random.randint(1000000, 9999999)\n",
    "   \n",
    "    def  __init__(self, nombre, apellido, dni):\n",
    "        self.nombre = nombre\n",
    "        self.apellido = apellido\n",
    "        self.dni = dni\n",
    "        self.tipo_cuenta =  input(\"Indique si es de débito o crédito\")\n",
    "        self.email = f\"{nombre}.{apellido}@python.com\".lower()\n",
    "    \n",
    "    def usuario_info(self):\n",
    "        print(\"nombre: \", self.nombre)\n",
    "        print(\"apellido: \", self.apellido)\n",
    "        print(\"email: \", self.email)\n",
    "        print(\"dni :\", self.dni)\n",
    "        print(\"id_usuario: \", self.id_usuario)\n",
    "        print(\"tipo_cuenta: \", self.tipo_cuenta) \n",
    "    \n",
    "    def mostrar_balance(self):\n",
    "        print(\"Balance actual: \", self.balance)\n",
    "        if self.balance < 0:\n",
    "            print(\"El balance es negativo\")\n",
    "    \n",
    "    def ingresar(self, ingreso):\n",
    "        self.balance = self.balance + ingreso\n",
    "        self.mostrar_balance()\n",
    " \n",
    "\n",
    "    \n",
    "    def hacer_bizum(self, bizum):\n",
    "        if self.balance >= bizum:\n",
    "            print(\"Bizum realizado con éxito\")\n",
    "            self.balance = self.balance - bizum\n",
    "        else:\n",
    "            print(\"No se puede realizar el bizum, fondos insuficientes\")\n",
    "        self.mostrar_balance()\n",
    "    \n",
    "    def cambiar_cuenta(self):\n",
    "        if self.tipo_cuenta == \"débito\":\n",
    "            self.tipo_cuenta = \"crédito\"\n",
    "        else:\n",
    "            self.tipo_cuenta = \"débito\"\n",
    "        print(\"Tu tipo de cuenta ha sido cambiada con exito\")\n",
    "        \n",
    "  \n",
    "        \n",
    "    def exportar_datos(self):\n",
    "        dict_1 = {}\n",
    "        dict_1[self.id_usuario] = {\"nombre\" : self.nombre, \n",
    "                  \"apellido\": self.apellido,\n",
    "                  \"email\": self.email,\n",
    "                  \"dni\": self.dni,\n",
    "                  \"tipo_cuenta\": self.tipo_cuenta,\n",
    "                  \"balance\": self.balance}\n",
    "        return dict_1\n",
    "            "
   ]
  },
  {
   "cell_type": "code",
   "execution_count": 71,
   "id": "79d3426a",
   "metadata": {},
   "outputs": [
    {
     "name": "stdin",
     "output_type": "stream",
     "text": [
      "Indique si es de débito o crédito débito\n"
     ]
    }
   ],
   "source": [
    "cuenta = CuentaBancaria(nombre = \"Walid\", apellido = \"Rihawi\", dni =  42342525)    "
   ]
  },
  {
   "cell_type": "code",
   "execution_count": 72,
   "id": "1031f73a",
   "metadata": {},
   "outputs": [
    {
     "name": "stdout",
     "output_type": "stream",
     "text": [
      "nombre:  Walid\n",
      "apellido:  Rihawi\n",
      "email:  walid.rihawi@python.com\n",
      "dni : 42342525\n",
      "id_usuario:  9325610\n",
      "tipo_cuenta:  débito\n"
     ]
    }
   ],
   "source": [
    "cuenta.usuario_info()"
   ]
  },
  {
   "cell_type": "code",
   "execution_count": 73,
   "id": "731d0988",
   "metadata": {},
   "outputs": [
    {
     "name": "stdout",
     "output_type": "stream",
     "text": [
      "Balance actual:  996.0\n"
     ]
    }
   ],
   "source": [
    "cuenta.mostrar_balance()"
   ]
  },
  {
   "cell_type": "code",
   "execution_count": 74,
   "id": "80cdf0d5",
   "metadata": {},
   "outputs": [
    {
     "name": "stdout",
     "output_type": "stream",
     "text": [
      "Balance actual:  4419.0\n"
     ]
    }
   ],
   "source": [
    "cuenta.ingresar(3423)"
   ]
  },
  {
   "cell_type": "code",
   "execution_count": 75,
   "id": "50bc3f61",
   "metadata": {},
   "outputs": [
    {
     "name": "stdout",
     "output_type": "stream",
     "text": [
      "Bizum realizado con éxito\n",
      "Balance actual:  4341.0\n"
     ]
    }
   ],
   "source": [
    "cuenta.hacer_bizum(78)"
   ]
  },
  {
   "cell_type": "code",
   "execution_count": 76,
   "id": "5d6e2d63",
   "metadata": {},
   "outputs": [
    {
     "name": "stdout",
     "output_type": "stream",
     "text": [
      "Tu tipo de cuenta ha sido cambiada con exito\n"
     ]
    }
   ],
   "source": [
    "cuenta.cambiar_cuenta()"
   ]
  },
  {
   "cell_type": "code",
   "execution_count": 77,
   "id": "13f447a2",
   "metadata": {},
   "outputs": [
    {
     "data": {
      "text/plain": [
       "{9325610: {'nombre': 'Walid',\n",
       "  'apellido': 'Rihawi',\n",
       "  'email': 'walid.rihawi@python.com',\n",
       "  'dni': 42342525,\n",
       "  'tipo_cuenta': 'crédito',\n",
       "  'balance': 4341.0}}"
      ]
     },
     "execution_count": 77,
     "metadata": {},
     "output_type": "execute_result"
    }
   ],
   "source": [
    "cuenta.exportar_datos()"
   ]
  },
  {
   "cell_type": "code",
   "execution_count": null,
   "id": "cde1376c",
   "metadata": {},
   "outputs": [],
   "source": []
  },
  {
   "cell_type": "code",
   "execution_count": null,
   "id": "bd2c21eb",
   "metadata": {},
   "outputs": [],
   "source": []
  }
 ],
 "metadata": {
  "kernelspec": {
   "display_name": "Python 3 (ipykernel)",
   "language": "python",
   "name": "python3"
  },
  "language_info": {
   "codemirror_mode": {
    "name": "ipython",
    "version": 3
   },
   "file_extension": ".py",
   "mimetype": "text/x-python",
   "name": "python",
   "nbconvert_exporter": "python",
   "pygments_lexer": "ipython3",
   "version": "3.9.7"
  }
 },
 "nbformat": 4,
 "nbformat_minor": 5
}
