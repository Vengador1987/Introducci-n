{
 "cells": [
  {
   "cell_type": "markdown",
   "id": "23894b39",
   "metadata": {},
   "source": [
    "# Strings (str)\n",
    "\n",
    "Las **cadenas de caractéres** o **strings** es un tipo de dato compuesto por secuencias de caracteres que representan texto.\n",
    "\n",
    "Estas cadenas de caracteres se pueden **inicializar** utilizando comillas simples **`'`** o comillas dobles **`\"`**.\n",
    "\n",
    "En python las **cadenas de caractéres** se representan con la palabra reservada **`str`** y tienen una gran variedad de **built-in methods** que nos facilitan mucho el trabajo al momento de manipularlas. \n",
    "\n",
    "En general, si queremos **\"imprimir por pantalla\"** un string, debemos utilizar la función **`print()`**."
   ]
  },
  {
   "cell_type": "code",
   "execution_count": null,
   "id": "7f170bac",
   "metadata": {},
   "outputs": [],
   "source": [
    "\"Hola mundo!\""
   ]
  },
  {
   "cell_type": "code",
   "execution_count": null,
   "id": "0c6ea06c",
   "metadata": {},
   "outputs": [],
   "source": [
    "'Hola mundo!'"
   ]
  },
  {
   "cell_type": "code",
   "execution_count": null,
   "id": "5ab24f57",
   "metadata": {},
   "outputs": [],
   "source": [
    "print(\"Hola mundo!\")"
   ]
  },
  {
   "cell_type": "markdown",
   "id": "08a87a47",
   "metadata": {},
   "source": [
    "# Operaciones con Strings"
   ]
  },
  {
   "cell_type": "code",
   "execution_count": null,
   "id": "8cddd045",
   "metadata": {},
   "outputs": [],
   "source": [
    "# Suma (concatenación de strings)\n",
    "\n",
    "\"Hola Mundo\" + \"Estamos usando Python\""
   ]
  },
  {
   "cell_type": "code",
   "execution_count": null,
   "id": "a397ede5",
   "metadata": {},
   "outputs": [],
   "source": [
    "# Multiplicación\n",
    "\n",
    "\"Python\"*10"
   ]
  },
  {
   "cell_type": "markdown",
   "id": "30092c74",
   "metadata": {},
   "source": [
    "# Built-in Methods\n",
    "\n",
    "Las cadenas de caractéres tienen una gran variedad de métodos, estos son algunos de los más utilizados:\n",
    "\n",
    "|                   |                     |\n",
    "|-------------------|---------------------|\n",
    "| **.capitalize()** | **.isalnum()**      |\n",
    "| **.title()**      | **.isalpha()**      |\n",
    "| **.casefold()**   | **.isascii()**      | \n",
    "| **.center()**     | **.isdecimal()**    |\n",
    "| **.count()**      | **.isdigit()**      |\n",
    "| **.capitalize()** | **.isidentifier()** |\n",
    "| **.startswith()** | **.islower()**      |\n",
    "| **.endswith()**   | **.isnumeric()**    |\n",
    "| **.find()**       | **.isspace()**      |\n",
    "| **.index()**      | **.istitle()**      |\n",
    "| **.format()**     | **.isupper()**      |\n",
    "| **.upper()**      | **.lower()**        |\n",
    "| **.replace()**    | **.swapcase()**     |\n",
    "| **.strip()**      | **.join()**         |\n",
    "| **.split()**      |\n",
    "\n",
    "\n",
    "<div style=\"text-align: right\"><strong>Ninguno de estos métodos modifica el string original.</strong> </div>"
   ]
  },
  {
   "cell_type": "code",
   "execution_count": null,
   "id": "56dd2eee",
   "metadata": {},
   "outputs": [],
   "source": [
    "string = \"Hola Mundo, esto es una cadena en PYTHON!\""
   ]
  },
  {
   "cell_type": "code",
   "execution_count": null,
   "id": "6dae21c1",
   "metadata": {},
   "outputs": [],
   "source": [
    "string.capitalize()"
   ]
  },
  {
   "cell_type": "code",
   "execution_count": null,
   "id": "ec74c76d",
   "metadata": {},
   "outputs": [],
   "source": [
    "string.title()"
   ]
  },
  {
   "cell_type": "code",
   "execution_count": null,
   "id": "e5976c5a",
   "metadata": {},
   "outputs": [],
   "source": [
    "string.lower()"
   ]
  },
  {
   "cell_type": "code",
   "execution_count": null,
   "id": "dfe19877",
   "metadata": {},
   "outputs": [],
   "source": [
    "string.upper()"
   ]
  },
  {
   "cell_type": "code",
   "execution_count": null,
   "id": "125a4327",
   "metadata": {},
   "outputs": [],
   "source": [
    "string.swapcase()"
   ]
  },
  {
   "cell_type": "code",
   "execution_count": null,
   "id": "595461fa",
   "metadata": {},
   "outputs": [],
   "source": [
    "string.replace(\"Mundo\", \"planeta\")\n",
    "# No modifica el string original"
   ]
  },
  {
   "cell_type": "code",
   "execution_count": null,
   "id": "9f1b9ea5",
   "metadata": {},
   "outputs": [],
   "source": [
    "string"
   ]
  },
  {
   "cell_type": "code",
   "execution_count": null,
   "id": "32fcef4f",
   "metadata": {},
   "outputs": [],
   "source": [
    "string.find(\"PYTHON\")"
   ]
  },
  {
   "cell_type": "code",
   "execution_count": null,
   "id": "d5981c1f",
   "metadata": {},
   "outputs": [],
   "source": [
    "string.index(\"PYTHON\")"
   ]
  },
  {
   "cell_type": "code",
   "execution_count": null,
   "id": "74e94483",
   "metadata": {},
   "outputs": [],
   "source": [
    "string.count(\"a\")"
   ]
  },
  {
   "cell_type": "code",
   "execution_count": null,
   "id": "7b942d7a",
   "metadata": {},
   "outputs": [],
   "source": [
    "string.count(\"A\")"
   ]
  },
  {
   "cell_type": "code",
   "execution_count": null,
   "id": "e0eb78e3",
   "metadata": {
    "scrolled": true
   },
   "outputs": [],
   "source": [
    "string.split()"
   ]
  },
  {
   "cell_type": "markdown",
   "id": "c25c300a",
   "metadata": {},
   "source": [
    "# Indexing & Slicing\n",
    "\n",
    "- **Indexing:** Es la forma de \"acceder\" o \"entrar\" a un solo elemento de un **objeto iterable** (strings, lists, dict...).\n",
    "    - Se utilizan los corchetes `[ ]` para hacer indexing.      \n",
    "    \n",
    "\n",
    "- **Slicing:** Es la forma de \"acceder\" o \"entrar\" a varios elementos de un **objeto iterable** (string, lists, dict...).\n",
    "    - Al igual que indexing se utilizan corchetes `[ ]` pero se le agregan el caracter `:`.\n",
    "        \n",
    "**En python el primer elemento de un objeto iterable tiene indice 0.**\n",
    "\n",
    "Para saber el tamaño de un objeto iterable podemos usar la función **`len()`**."
   ]
  },
  {
   "cell_type": "markdown",
   "id": "3fe28428",
   "metadata": {},
   "source": [
    "![alt text](slicing_indexing_1.jpg \"slicing_indexing_1\")"
   ]
  },
  {
   "cell_type": "markdown",
   "id": "33acc455",
   "metadata": {},
   "source": [
    "Si estamos haciendo slincing y el primer elemento es el comienzo del objeto podemos hacer\n",
    "<p style=\"text-align: center;\"> <strong>string[0:10]</strong> o <strong>string[:10]</strong> </p>\n",
    "\n",
    "\n",
    "Y si el ultimo elemento del slicing es el final del obejto podemos hacer:\n",
    "<p style=\"text-align: center;\"> <strong>string[10:20]</strong> o <strong>string[10:]</strong> </p>\n"
   ]
  },
  {
   "cell_type": "code",
   "execution_count": null,
   "id": "274a7497",
   "metadata": {},
   "outputs": [],
   "source": [
    "string"
   ]
  },
  {
   "cell_type": "code",
   "execution_count": null,
   "id": "41f397f7",
   "metadata": {},
   "outputs": [],
   "source": [
    "len(string)"
   ]
  },
  {
   "cell_type": "code",
   "execution_count": null,
   "id": "1f361385",
   "metadata": {},
   "outputs": [],
   "source": [
    "# Si quisieramos el primer elemento de este string, usariamos [0]\n",
    "\n",
    "string[0]"
   ]
  },
  {
   "cell_type": "code",
   "execution_count": null,
   "id": "01e4db98",
   "metadata": {},
   "outputs": [],
   "source": [
    "# Si quisieramos el elemento numero 10 del string usamos [9]\n",
    "\n",
    "string[9]"
   ]
  },
  {
   "cell_type": "markdown",
   "id": "6cfdec36",
   "metadata": {},
   "source": [
    "Debido a que los indices comienzan en 0 si quisieramos \"acceder\" al indice **x** usariamos el indexing de **x - 1**."
   ]
  },
  {
   "cell_type": "code",
   "execution_count": null,
   "id": "9c616e25",
   "metadata": {},
   "outputs": [],
   "source": [
    "# Para el último elemento del string podemos usar [40] o [-1]\n",
    "\n",
    "string[40]"
   ]
  },
  {
   "cell_type": "code",
   "execution_count": null,
   "id": "01528b53",
   "metadata": {},
   "outputs": [],
   "source": [
    "string[-1]"
   ]
  },
  {
   "cell_type": "code",
   "execution_count": null,
   "id": "77440694",
   "metadata": {},
   "outputs": [],
   "source": [
    "# Si quisiera un elemento fuera de ese rango\n",
    "\n",
    "string[1000]"
   ]
  },
  {
   "cell_type": "markdown",
   "id": "2f4f7364",
   "metadata": {},
   "source": [
    "En python, podemos hacer indexing de **izquierda a derecha**, comenzando en 0 y se suma 1 hasta el último indice que sería el tamaño del objeto menos 1.\n",
    "\n",
    "También se puede hacer indexing de **derecha a izquierda**, esta vez comenzando desde -1 y, en lugar de sumar 1, se resta 1.\n",
    "\n",
    "**Ejemplo:**"
   ]
  },
  {
   "cell_type": "code",
   "execution_count": null,
   "id": "c4e33db1",
   "metadata": {},
   "outputs": [],
   "source": [
    "string = \"Hola Mundo, esto es una cadena en PYTHON!\"\n",
    "\n",
    "string[-1]"
   ]
  },
  {
   "cell_type": "code",
   "execution_count": null,
   "id": "9dac3a20",
   "metadata": {},
   "outputs": [],
   "source": [
    "string[-2]"
   ]
  },
  {
   "cell_type": "code",
   "execution_count": null,
   "id": "4fb04dcd",
   "metadata": {},
   "outputs": [],
   "source": [
    "string[-3]"
   ]
  },
  {
   "cell_type": "code",
   "execution_count": null,
   "id": "dff7a7ee",
   "metadata": {},
   "outputs": [],
   "source": [
    "string[-4]"
   ]
  },
  {
   "cell_type": "code",
   "execution_count": null,
   "id": "abaf00e3",
   "metadata": {},
   "outputs": [],
   "source": [
    "string[-5]"
   ]
  },
  {
   "cell_type": "code",
   "execution_count": null,
   "id": "638f44cb",
   "metadata": {},
   "outputs": [],
   "source": [
    "string[-10]"
   ]
  },
  {
   "cell_type": "code",
   "execution_count": null,
   "id": "06628553",
   "metadata": {},
   "outputs": [],
   "source": [
    "# Para hacer slicing usariamos [start:end]\n",
    "\n",
    "string[0:4]"
   ]
  },
  {
   "cell_type": "code",
   "execution_count": null,
   "id": "a6a1a6ac",
   "metadata": {},
   "outputs": [],
   "source": [
    "# El slicing termina una posición antes al numero que le digamos\n",
    "# Es decir, no incluye al último elemento\n",
    "\n",
    "string[2:7]"
   ]
  },
  {
   "cell_type": "code",
   "execution_count": null,
   "id": "e7167bcd",
   "metadata": {},
   "outputs": [],
   "source": [
    "# También podemos usar indices negativos\n",
    "string[-8 : -3]"
   ]
  },
  {
   "cell_type": "code",
   "execution_count": null,
   "id": "57e07b5e",
   "metadata": {},
   "outputs": [],
   "source": [
    "string[:10]"
   ]
  },
  {
   "cell_type": "code",
   "execution_count": null,
   "id": "ae0a6a59",
   "metadata": {},
   "outputs": [],
   "source": [
    "string[10:]"
   ]
  },
  {
   "cell_type": "code",
   "execution_count": null,
   "id": "c549822c",
   "metadata": {},
   "outputs": [],
   "source": [
    "string[:]"
   ]
  },
  {
   "cell_type": "markdown",
   "id": "db2b1691",
   "metadata": {},
   "source": [
    "# Stride\n",
    "\n",
    "Es una forma de recorrer objetos iterables agregando un \"paso\":"
   ]
  },
  {
   "cell_type": "code",
   "execution_count": null,
   "id": "3d1c38ff",
   "metadata": {},
   "outputs": [],
   "source": [
    "# En este ejemplo, se va a mostrar cada dos elementos del string, saltandose uno \n",
    "\n",
    "print(string)\n",
    "\n",
    "print(string[1:-1:2])"
   ]
  },
  {
   "cell_type": "code",
   "execution_count": null,
   "id": "305f92c5",
   "metadata": {},
   "outputs": [],
   "source": [
    "# En este ejemplo, se va a mostrar cada tres elementos del string, saltandose dos \n",
    "\n",
    "print(string)\n",
    "\n",
    "print(string[1: -1: 3])"
   ]
  },
  {
   "cell_type": "markdown",
   "id": "f4329d7a",
   "metadata": {},
   "source": [
    "# Función format\n",
    "\n",
    "La función **`.format()`** es una herramienta para darle \"formato\" a una cadena de caracteres, esta función llena las llaves **`{}`** vacias de la cadena. Esta función se puede usar de 2 formas:\n",
    "\n",
    "1. Haciendo **`.format()`** al final de un string.\n",
    "2. Colocando **`f`** al comienzo de un string.\n",
    "\n",
    "**Ejemplo:**"
   ]
  },
  {
   "cell_type": "code",
   "execution_count": null,
   "id": "187bb787",
   "metadata": {},
   "outputs": [],
   "source": [
    "nombre = \"Daniel\"\n",
    "edad = 27"
   ]
  },
  {
   "cell_type": "code",
   "execution_count": null,
   "id": "c620e360",
   "metadata": {},
   "outputs": [],
   "source": [
    "# En esta forma de usar .format(), estamos usando 2 llaves y por eso necesitamos 2 variables para llenarlas.\n",
    "# Se llenan en el orden que estan colocadas.\n",
    "\n",
    "\"Hola! Mi nombre es {} y tengo {} años.\".format(nombre, edad)"
   ]
  },
  {
   "cell_type": "code",
   "execution_count": null,
   "id": "78011d51",
   "metadata": {},
   "outputs": [],
   "source": [
    "\"Hola! Mi nombre es {} y tengo {} años.\".format(edad, nombre)"
   ]
  },
  {
   "cell_type": "code",
   "execution_count": null,
   "id": "e97c763f",
   "metadata": {},
   "outputs": [],
   "source": [
    "# En esta forma de usar .format(), directamente llenamos las llaves con las variables.\n",
    "\n",
    "f\"Hola! Mi nombre es {nombre} y tengo {edad} años.\""
   ]
  },
  {
   "cell_type": "markdown",
   "id": "ca73e0aa",
   "metadata": {},
   "source": [
    "Con **`format`** podemos utilizar todas las llaves que queramos siempre y cuando tengamos la misma cantidad de elementos para llenarlos."
   ]
  },
  {
   "cell_type": "markdown",
   "id": "15e2b30d",
   "metadata": {},
   "source": [
    "# Tuplas y Listas (tuple & list)\n",
    "\n",
    "En python las tuplas y listas son una clase de estructura de datos que pueden almacenar uno o más objetos y valores, en ellas se pueden almacenar cualquier tipo de variable u objeto y para acceder a los valores se utiliza indexing o slicing.\n",
    "\n",
    "- **Tuplas:**\n",
    "    - Se inicializan usando `tuple()` o `( )`.\n",
    "    - Son inmutables.\n",
    "    - Ocupan menos espacio en memoria.\n",
    "    - En general, el tiempo de ejecución o recorrido de una tupla es menor.\n",
    "    - Cuenta con menos funciones y métodos que las listas.\n",
    "    \n",
    "    \n",
    "- **Listas:**\n",
    "    - Se inicializan usando `list()` o `[ ]`.\n",
    "    - Son mutables.\n",
    "    - Ocupan más espacio en memoria que las tuplas.\n",
    "    - En general, las listas consumen mucho tiempo al iterar sobre ellas.\n",
    "    - Cuenta con muchas funciones para operar con ellas."
   ]
  },
  {
   "cell_type": "markdown",
   "id": "a36fa656",
   "metadata": {},
   "source": [
    "### Tuplas"
   ]
  },
  {
   "cell_type": "code",
   "execution_count": null,
   "id": "cb8e27b7",
   "metadata": {},
   "outputs": [],
   "source": [
    "tupla_1 = (1, 2, 3, 4, 5, 100)\n",
    "\n",
    "tupla_1"
   ]
  },
  {
   "cell_type": "code",
   "execution_count": null,
   "id": "1430ca9b",
   "metadata": {},
   "outputs": [],
   "source": [
    "print(tupla_1)"
   ]
  },
  {
   "cell_type": "code",
   "execution_count": null,
   "id": "0ded8f73",
   "metadata": {},
   "outputs": [],
   "source": [
    "tupla_2 = (4, 5, 6, 7, 8, 100)\n",
    "\n",
    "tupla_2"
   ]
  },
  {
   "cell_type": "code",
   "execution_count": null,
   "id": "946cd5f6",
   "metadata": {},
   "outputs": [],
   "source": [
    "print(tupla_2)"
   ]
  },
  {
   "cell_type": "code",
   "execution_count": null,
   "id": "23e5ff0d",
   "metadata": {},
   "outputs": [],
   "source": [
    "# Al igual que en los strings, para \"acceder\" a los elementos de una tupla usamos indexing y slicing\n",
    "\n",
    "tupla_1[0]"
   ]
  },
  {
   "cell_type": "code",
   "execution_count": null,
   "id": "75fcc76b",
   "metadata": {},
   "outputs": [],
   "source": [
    "tupla_1[1:5]"
   ]
  },
  {
   "cell_type": "code",
   "execution_count": null,
   "id": "0e4cf6f1",
   "metadata": {},
   "outputs": [],
   "source": [
    "tupla_1[-1]"
   ]
  },
  {
   "cell_type": "code",
   "execution_count": null,
   "id": "2d02dcf8",
   "metadata": {},
   "outputs": [],
   "source": [
    "# Min, Max y Len\n",
    "\n",
    "print(\"Minimo tupla_1:\", min(tupla_1))\n",
    "print(\"Maximo tupla_1:\", max(tupla_1))\n",
    "print(\"Tamaño tupla_1:\", len(tupla_1))"
   ]
  },
  {
   "cell_type": "code",
   "execution_count": null,
   "id": "f36e2335",
   "metadata": {},
   "outputs": [],
   "source": [
    "# Min, Max y Len\n",
    "\n",
    "print(\"Minimo tupla_2:\", min(tupla_2))\n",
    "print(\"Maximo tupla_2:\", max(tupla_2))\n",
    "print(\"Tamaño tupla_2:\", len(tupla_2))"
   ]
  },
  {
   "cell_type": "code",
   "execution_count": null,
   "id": "1e34e9bd",
   "metadata": {},
   "outputs": [],
   "source": [
    "# Las tuplas se pueden concatenar usando +, el resultados es una nueva tupla, no modifica las tuplas originales\n",
    "\n",
    "tupla_1 + tupla_2"
   ]
  },
  {
   "cell_type": "code",
   "execution_count": null,
   "id": "d6256cd1",
   "metadata": {},
   "outputs": [],
   "source": [
    "# Pero no se pueden restar\n",
    "\n",
    "tupla_1 - tupla_2"
   ]
  },
  {
   "cell_type": "markdown",
   "id": "be5be054",
   "metadata": {},
   "source": [
    "### Listas"
   ]
  },
  {
   "cell_type": "code",
   "execution_count": null,
   "id": "6d16aff0",
   "metadata": {},
   "outputs": [],
   "source": [
    "lista_1 = [1, 2, 3, 4, 5, 6, 7, 100, 1000]\n",
    "\n",
    "lista_2 = [5, 6, 7, 8, 9, 10, 11, -2, -6, -100]"
   ]
  },
  {
   "cell_type": "code",
   "execution_count": null,
   "id": "79e7f787",
   "metadata": {},
   "outputs": [],
   "source": [
    "print(\"lista_1:\", lista_1)\n",
    "print(\"lista_2:\", lista_2)"
   ]
  },
  {
   "cell_type": "markdown",
   "id": "c5cd2373",
   "metadata": {},
   "source": [
    "Los objetos **`list()`** son unos de los más utilizados en python, la principal ventaja ante las tuplas es que estos objetos **son mutables**, es decir, pueden ser modificados, se les puede **agragar y quitar valores** y cuentan con diferentes métodos asociados:\n",
    "\n",
    "| Modifican \"in-place\" | Retornan un valor |\n",
    "|----------------------|-------------------|\n",
    "| **.append()**        | **.count()**      |\n",
    "| **.extend()**        | **.index()**      |\n",
    "| **.insert()**        | **min()**         |\n",
    "| **.pop()**           | **max()**         |\n",
    "| **.remove()**        | **len()**         |\n",
    "| **.sort()**          |                   |\n",
    "| **.reverse()**       |                   |\n",
    "| **.clear()**         |                   |\n",
    "| **del**              |                   |"
   ]
  },
  {
   "cell_type": "code",
   "execution_count": null,
   "id": "4656c91b",
   "metadata": {},
   "outputs": [],
   "source": [
    "# Las listas también tienen Min, Max y Len\n",
    "\n",
    "print(\"Minimo lista_1:\", min(lista_1))\n",
    "print(\"Maximo lista_1:\", max(lista_1))\n",
    "print(\"Tamaño lista_1:\", len(lista_1))"
   ]
  },
  {
   "cell_type": "code",
   "execution_count": null,
   "id": "ad74452d",
   "metadata": {},
   "outputs": [],
   "source": [
    "# .sort() ordena de menor a mayor la lista, no retorna un valor, modifica la lista \"in-place\"\n",
    "\n",
    "print(\"Antes del sort:\", lista_2)\n",
    "\n",
    "lista_2.sort()"
   ]
  },
  {
   "cell_type": "code",
   "execution_count": null,
   "id": "287ab414",
   "metadata": {},
   "outputs": [],
   "source": [
    "print(\"Después del sort:\", lista_2)"
   ]
  },
  {
   "cell_type": "code",
   "execution_count": null,
   "id": "a3f576c7",
   "metadata": {},
   "outputs": [],
   "source": [
    "# .reverse() invierte la lista\n",
    "\n",
    "print(\"Antes del reverse:\", lista_1)\n",
    "\n",
    "lista_1.reverse()\n",
    "\n",
    "print(\"Después del reverse:\", lista_1)"
   ]
  },
  {
   "cell_type": "markdown",
   "id": "005bcf8c",
   "metadata": {},
   "source": [
    "Si quisieramos **agregar** elementos a una lista tenemos 3 opciones:\n",
    "\n",
    "- **`.append()`**: agrega 1 elemento/objeto al final de la lista.\n",
    "\n",
    "- **`.extend()`**: agrega todos los elementos de un objeto iterable\n",
    "\n",
    "- **`.insert()`**: agrega 1 elemento a una posición en específico.\n",
    "\n",
    "\n",
    "**Ejemplos:**"
   ]
  },
  {
   "cell_type": "code",
   "execution_count": null,
   "id": "28dbcf5b",
   "metadata": {},
   "outputs": [],
   "source": [
    "# Si quisieramos agregar el numero 50 en la última posición de la lista_1:\n",
    "# .append() no retorna nada\n",
    "\n",
    "print(\"Antes del append:\", lista_1)\n",
    "\n",
    "lista_1.append(50)"
   ]
  },
  {
   "cell_type": "code",
   "execution_count": null,
   "id": "0ac4ad36",
   "metadata": {},
   "outputs": [],
   "source": [
    "print(\"Después del append:\", lista_1)"
   ]
  },
  {
   "cell_type": "code",
   "execution_count": null,
   "id": "bc8cd545",
   "metadata": {},
   "outputs": [],
   "source": [
    "# Si quisieramos agregar los números 33, 44, 55, 66 y 0 al final de la lista_1:\n",
    "# .extend() no retorna nada\n",
    "\n",
    "print(\"Antes del extend:\", lista_1)\n",
    "\n",
    "lista_1.extend([33, 44, 55, 66, 0])"
   ]
  },
  {
   "cell_type": "code",
   "execution_count": null,
   "id": "7c509f88",
   "metadata": {},
   "outputs": [],
   "source": [
    "print(\"Después del extend:\", lista_1)"
   ]
  },
  {
   "cell_type": "code",
   "execution_count": null,
   "id": "fda04d21",
   "metadata": {},
   "outputs": [],
   "source": [
    "# Si quisieramos agregar el número 0 al indice 4:\n",
    "# .insert() no retorna nada\n",
    "\n",
    "print(\"Antes del insert:\", lista_1)\n",
    "\n",
    "lista_1.insert(4, 0)"
   ]
  },
  {
   "cell_type": "code",
   "execution_count": null,
   "id": "043eba3b",
   "metadata": {},
   "outputs": [],
   "source": [
    "print(\"Después del insert:\", lista_1)"
   ]
  },
  {
   "cell_type": "markdown",
   "id": "7f8c2652",
   "metadata": {},
   "source": [
    "Si quisieramos eliminar los elementos de una lista también tenemos 3 opciones:\n",
    "    \n",
    "- **`.remove()`**: elimina la primera ocurrencia en la lista\n",
    "\n",
    "- **`.pop()`**: elimina un elemento utilizando su indice y retorna ese elemento\n",
    "\n",
    "- **`del`**: elimina un elemento utilizando su indice, no retorna nada"
   ]
  },
  {
   "cell_type": "code",
   "execution_count": null,
   "id": "c0ffb747",
   "metadata": {},
   "outputs": [],
   "source": [
    "# En lista_1 aparecen dos veces el numero 0, si quisieramos eliminar el primer 0, utilizariamos .remove():\n",
    "# .remove() toma como argumento el elemento que queremos eliminar, no retorna nada.\n",
    "\n",
    "print(\"Antes del remove:\", lista_1)\n",
    "\n",
    "lista_1.remove(0)"
   ]
  },
  {
   "cell_type": "code",
   "execution_count": null,
   "id": "790e8655",
   "metadata": {},
   "outputs": [],
   "source": [
    "print(\"Después del remove:\", lista_1)"
   ]
  },
  {
   "cell_type": "code",
   "execution_count": null,
   "id": "1f883ee0",
   "metadata": {},
   "outputs": [],
   "source": [
    "# Si intentamos eliminar un elemento que no este en la lista nos daría error\n",
    "\n",
    "lista_1.remove(99)"
   ]
  },
  {
   "cell_type": "code",
   "execution_count": null,
   "id": "2b08d3dc",
   "metadata": {},
   "outputs": [],
   "source": [
    "# Si queremor eliminar un elemento por su indice:\n",
    "\n",
    "print(\"Antes del `del`\", lista_1)\n",
    "\n",
    "del lista_1[5]\n",
    "\n",
    "# Elimina el elemento con indice 5"
   ]
  },
  {
   "cell_type": "code",
   "execution_count": null,
   "id": "cdf98177",
   "metadata": {},
   "outputs": [],
   "source": [
    "print(\"Después del `del`\", lista_1)"
   ]
  },
  {
   "cell_type": "code",
   "execution_count": null,
   "id": "5108c7db",
   "metadata": {},
   "outputs": [],
   "source": [
    "# Si queremos eliminar un elemento por su indice y a su vez guardar en una variable el ese elemento:\n",
    "# El .pop() retorna el elemento que saca de la lista, por lo que podemos igualar esa ejecución a una variable\n",
    "\n",
    "print(\"Antes del pop\", lista_1)\n",
    "\n",
    "elemento = lista_1.pop(0)"
   ]
  },
  {
   "cell_type": "code",
   "execution_count": null,
   "id": "83ae02a0",
   "metadata": {},
   "outputs": [],
   "source": [
    "print(\"Después del pop\", lista_1)"
   ]
  },
  {
   "cell_type": "code",
   "execution_count": null,
   "id": "fe831bd5",
   "metadata": {},
   "outputs": [],
   "source": [
    "elemento"
   ]
  },
  {
   "cell_type": "code",
   "execution_count": null,
   "id": "2ffdb8d0",
   "metadata": {},
   "outputs": [],
   "source": [
    "# Por último, podemos vaciar la lista con .clear()\n",
    "\n",
    "print(\"Antes del clear\", lista_1)\n",
    "\n",
    "lista_1.clear()\n",
    "\n",
    "print(\"Después del clear\", lista_1)"
   ]
  },
  {
   "cell_type": "code",
   "execution_count": null,
   "id": "dbbfbfe9",
   "metadata": {},
   "outputs": [],
   "source": [
    "# .count() cuenta cuantas veces se repite un elemento:\n",
    "\n",
    "lista_1.count(100)"
   ]
  },
  {
   "cell_type": "code",
   "execution_count": null,
   "id": "c64954bc",
   "metadata": {},
   "outputs": [],
   "source": [
    "# .index() retorna la posición de un elemento en la lista:\n",
    "\n",
    "lista_1.index(55)"
   ]
  },
  {
   "cell_type": "code",
   "execution_count": null,
   "id": "491183c2",
   "metadata": {},
   "outputs": [],
   "source": [
    "# Si intentamos buscar un elemento que no esta en la lista nos daría error\n",
    "\n",
    "lista_1.index(-111)"
   ]
  },
  {
   "cell_type": "code",
   "execution_count": null,
   "id": "7c0c05a7",
   "metadata": {},
   "outputs": [],
   "source": [
    "# Si quisieramos cambiar un elemento de la lista podemos usar indexing para hacerlo:\n",
    "\n",
    "# Por ejemplo, queremos que el elemento en el indice 5 sea ahora -100\n",
    "\n",
    "lista_1[5] = -100\n",
    "\n",
    "lista_1"
   ]
  },
  {
   "cell_type": "code",
   "execution_count": null,
   "id": "caae57bf",
   "metadata": {},
   "outputs": [],
   "source": [
    "# Y lo mismo aplica con el slicing si queremos cambiar un conjunto de elementos:\n",
    "\n",
    "lista_1[5:10] = [-1, -2, -3, -4, -5]\n",
    "\n",
    "lista_1"
   ]
  },
  {
   "cell_type": "markdown",
   "id": "009c3f4b",
   "metadata": {},
   "source": [
    "Tanto las listas como las tuplas pueden **contener cualquier tipo de objeto dentro de ellas**, esto incluye numeros, strings, listas, tuplas, diccionarios... Por lo que es normal ver listas anidadas: "
   ]
  },
  {
   "cell_type": "code",
   "execution_count": null,
   "id": "fb0c4f4e",
   "metadata": {},
   "outputs": [],
   "source": [
    "lista_1 = [[1, 2, 3], [4, 5, 6], [7, 8, 9]]\n",
    "\n",
    "print(lista_1)"
   ]
  },
  {
   "cell_type": "code",
   "execution_count": null,
   "id": "f8e9ad31",
   "metadata": {},
   "outputs": [],
   "source": [
    "# Al tener una lista de listas accederiamos a cada una usando indexing"
   ]
  },
  {
   "cell_type": "code",
   "execution_count": null,
   "id": "bf680dae",
   "metadata": {},
   "outputs": [],
   "source": [
    "lista_1[0]"
   ]
  },
  {
   "cell_type": "code",
   "execution_count": null,
   "id": "48f2dbd2",
   "metadata": {},
   "outputs": [],
   "source": [
    "lista_1[1]"
   ]
  },
  {
   "cell_type": "code",
   "execution_count": null,
   "id": "9247b7f6",
   "metadata": {},
   "outputs": [],
   "source": [
    "lista_1[2]"
   ]
  },
  {
   "cell_type": "code",
   "execution_count": null,
   "id": "4c1f7110",
   "metadata": {},
   "outputs": [],
   "source": [
    "# Y si quisieramos los elementos de la primera lista, usariamos indexing otra vez\n",
    "lista_1[0][0]"
   ]
  },
  {
   "cell_type": "code",
   "execution_count": null,
   "id": "63261966",
   "metadata": {},
   "outputs": [],
   "source": [
    "lista_1[0][1]"
   ]
  },
  {
   "cell_type": "code",
   "execution_count": null,
   "id": "34e748cf",
   "metadata": {},
   "outputs": [],
   "source": [
    "lista_1[0][2]"
   ]
  },
  {
   "cell_type": "code",
   "execution_count": null,
   "id": "8ad7b48f",
   "metadata": {},
   "outputs": [],
   "source": [
    "lista_3 = [lista_1[0], string, 10, 0, 1000, lista_1[-1]]\n",
    "\n",
    "lista_3"
   ]
  },
  {
   "cell_type": "code",
   "execution_count": null,
   "id": "dc2f69b4",
   "metadata": {},
   "outputs": [],
   "source": [
    "lista_3[1][-1]"
   ]
  },
  {
   "cell_type": "code",
   "execution_count": null,
   "id": "8510de38",
   "metadata": {},
   "outputs": [],
   "source": []
  },
  {
   "cell_type": "code",
   "execution_count": null,
   "id": "d6be3b89",
   "metadata": {},
   "outputs": [],
   "source": []
  },
  {
   "cell_type": "code",
   "execution_count": null,
   "id": "137e427c",
   "metadata": {},
   "outputs": [],
   "source": []
  }
 ],
 "metadata": {
  "kernelspec": {
   "display_name": "Python 3 (ipykernel)",
   "language": "python",
   "name": "python3"
  },
  "language_info": {
   "codemirror_mode": {
    "name": "ipython",
    "version": 3
   },
   "file_extension": ".py",
   "mimetype": "text/x-python",
   "name": "python",
   "nbconvert_exporter": "python",
   "pygments_lexer": "ipython3",
   "version": "3.9.7"
  }
 },
 "nbformat": 4,
 "nbformat_minor": 5
}
