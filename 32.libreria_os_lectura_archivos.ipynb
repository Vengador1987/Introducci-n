{
 "cells": [
  {
   "cell_type": "markdown",
   "id": "b4a8adb7",
   "metadata": {},
   "source": [
    "# Lectura y Escritura de archivos\n",
    "\n",
    "En python para leer y escribir un archivo (o fichero) usamos la función **`open`**. Ésta función toma como parametros el **`path`** o ruta de un archivo y el modo de apertura, que pueden ser cualquiera de los siguientes (por defecto es **`r`**):\n",
    "\n",
    "\n",
    "|Modo    |Descripción                                                          |\n",
    "|--------|---------------------------------------------------------------------|\n",
    "|**`r`** |Abre el fichero en modo lectura.                                     |\n",
    "|**`r+`**|Abre el fichero en modo lectura y escritura. Sobreescribe el archivo.|\n",
    "|**`w`** |Abre el fichero solo en modo escritura. Sobreescribe el archivo.     |\n",
    "|**`a`** |Añade una linea al final del fichero en caso de que ya exista.       |\n",
    "|**`x`** |Crea un nuevo archivo y lo abre para escritura.                      |\n",
    "|**`br`**|Abre ficheros binarios en modo lectura (imagenes).                   |\n",
    "|**`bw`**|Abre ficheros binarios en modo escritura. Sobreescribe el archivo.   |\n",
    "|**`b+`**|Abre ficheros binarios en modo lectura y escritura.                  |\n",
    "\n",
    "Para usar la función **`open`** tenemos principalmente 2 formas:\n",
    "1. Usando **`open()`** y el método **`close()`**:\n",
    "    - **Sintaxis**: \n",
    "               file = open(\"path\", \"modo\")\n",
    "               data = file.read()\n",
    "               file.close()\n",
    "2. Usando la función **`with open()`**:\n",
    "    - **Sintaxis**:\n",
    "               with open(\"path\", \"modo\") as file:\n",
    "                   data = file.read()\n",
    "                   \n",
    "\n",
    "Cuando solo usamos la función **`open()`** tenemos que \"cerrar\" el archivo \"manualmente\", en cambio si usamos **`with open()`** no tenemos que preocuparnos por esto, ya que su principal función es abrir y cerrar el archivo, por lo que es más recomendado usar la segunda forma, además de que simplifica enormemente el código.\n",
    "\n",
    "Un tercer parametro puede ser indicado a la función **`open()`** y este es el **`encoding`**, por defecto no usa ninguno encoding, esto tiene un uso especial si tenemos ficheros con caracteres especiales, como los acentos o la letra **ñ**. El encoding más usado para esto sería **`utf-8`**.\n",
    "\n",
    "\n",
    "### Escritura de archivos\n",
    "\n",
    "Para escribir archivos usamos los siguientes métodos:\n",
    "\n",
    "|Método                     |Descripción                                                 |\n",
    "|---------------------------|------------------------------------------------------------|\n",
    "|**`file.write(string)`**   |Inserta la cadena \"string\" en una sola linea al archivo.    |\n",
    "|**`file.writelines(list)`**|Inserta las cadenas de la lista \"list\" al final del archivo.|\n",
    "\n",
    "**Aunque no es obligatorio, es buena práctica agregar el salto de linea `\\n` en cada string que agregemos al fichero.**\n",
    "\n",
    "\n",
    "### Lectura de archivos\n",
    "\n",
    "Para leer archivos usamos los siguientes métodos:\n",
    "\n",
    "|Método                     |Descripción                                                                                                |\n",
    "|---------------------------|----------------------------------------------------------------------------------------------------------|\n",
    "|**`file.read(n)`**    |Lee los primero \"n\" caracteres del archivo, si no se especifica \"n\" lee todo el archivo en una sola cadena.|\n",
    "|**`file.radline(n)`** |Lee una sola linea del archivo, si se especifica \"n\", leerá los primeros n-caracteres de esa linea.            |\n",
    "|**`file.readlines()`**|Lee todo el archivo y retorna en una lista cada linea del archivo.                                            |"
   ]
  },
  {
   "cell_type": "markdown",
   "id": "52d2ac3c",
   "metadata": {},
   "source": [
    "#### Ejemplos de lectura de archivos:"
   ]
  },
  {
   "cell_type": "code",
   "execution_count": 1,
   "id": "fb2efd8d",
   "metadata": {},
   "outputs": [
    {
     "data": {
      "text/plain": [
       "'1) Primera linea.\\n2) Segundalinea.\\n3) Tercera linea.\\n4) Cuarta linea.\\n5) Quinta linea.\\n6) Sexta linea.\\n7) Septima linea.\\n8) Octava linea.\\n9) Novena linea.\\n10) Decima linea.\\n'"
      ]
     },
     "execution_count": 1,
     "metadata": {},
     "output_type": "execute_result"
    }
   ],
   "source": [
    "# Sintaxis 1\n",
    "# Leer todo el archivo con .read()\n",
    "\n",
    "file = open(\"ejemplo_1.txt\", \"r\")\n",
    "data = file.read()\n",
    "file.close()\n",
    "\n",
    "data\n",
    "\n",
    "# Nos retorna un string"
   ]
  },
  {
   "cell_type": "code",
   "execution_count": 2,
   "id": "7ae32238",
   "metadata": {},
   "outputs": [
    {
     "name": "stdout",
     "output_type": "stream",
     "text": [
      "1) Primera linea.\n",
      "2) Segundalinea.\n",
      "3) Tercera linea.\n",
      "4) Cuarta linea.\n",
      "5) Quinta linea.\n",
      "6) Sexta linea.\n",
      "7) Septima linea.\n",
      "8) Octava linea.\n",
      "9) Novena linea.\n",
      "10) Decima linea.\n",
      "\n"
     ]
    }
   ],
   "source": [
    "print(data)"
   ]
  },
  {
   "cell_type": "code",
   "execution_count": 3,
   "id": "9633a2a7",
   "metadata": {},
   "outputs": [
    {
     "data": {
      "text/plain": [
       "'1) Primera linea.\\n2) Segundalinea.\\n3) Tercera linea.\\n4) Cuarta linea.\\n5) Quinta linea.\\n6) Sexta linea.\\n7) Septima linea.\\n8) Octava linea.\\n9) Novena linea.\\n10) Decima linea.\\n'"
      ]
     },
     "execution_count": 3,
     "metadata": {},
     "output_type": "execute_result"
    }
   ],
   "source": [
    "# Sintaxis 2\n",
    "# Leer todo el archivo con .read()\n",
    "\n",
    "with open(\"ejemplo_1.txt\", \"r\") as file:\n",
    "    data = file.read()\n",
    "    \n",
    "data\n",
    "\n",
    "# Nos retorna un string"
   ]
  },
  {
   "cell_type": "code",
   "execution_count": 4,
   "id": "72a15bc9",
   "metadata": {},
   "outputs": [
    {
     "name": "stdout",
     "output_type": "stream",
     "text": [
      "1) Primera linea.\n",
      "2) Segundalinea.\n",
      "3) Tercera linea.\n",
      "4) Cuarta linea.\n",
      "5) Quinta linea.\n",
      "6) Sexta linea.\n",
      "7) Septima linea.\n",
      "8) Octava linea.\n",
      "9) Novena linea.\n",
      "10) Decima linea.\n",
      "\n"
     ]
    }
   ],
   "source": [
    "print(data)"
   ]
  },
  {
   "cell_type": "code",
   "execution_count": 5,
   "id": "84fedbaf",
   "metadata": {},
   "outputs": [
    {
     "data": {
      "text/plain": [
       "'1) Primera linea.\\n'"
      ]
     },
     "execution_count": 5,
     "metadata": {},
     "output_type": "execute_result"
    }
   ],
   "source": [
    "# Sintaxis 2\n",
    "# Leer todo el archivo con .readline()\n",
    "\n",
    "with open(\"ejemplo_1.txt\", \"r\") as file:\n",
    "    data = file.readline()\n",
    "    \n",
    "data\n",
    "\n",
    "# Con .readline() solo leemos una linea y nos retorna en forma de string"
   ]
  },
  {
   "cell_type": "code",
   "execution_count": 6,
   "id": "d30624bd",
   "metadata": {},
   "outputs": [
    {
     "data": {
      "text/plain": [
       "['1) Primera linea.\\n',\n",
       " '2) Segundalinea.\\n',\n",
       " '3) Tercera linea.\\n',\n",
       " '4) Cuarta linea.\\n',\n",
       " '5) Quinta linea.\\n',\n",
       " '6) Sexta linea.\\n',\n",
       " '7) Septima linea.\\n',\n",
       " '8) Octava linea.\\n',\n",
       " '9) Novena linea.\\n',\n",
       " '10) Decima linea.\\n']"
      ]
     },
     "execution_count": 6,
     "metadata": {},
     "output_type": "execute_result"
    }
   ],
   "source": [
    "# Sintaxis 2\n",
    "# Leer todo el archivo con .readlines()\n",
    "\n",
    "with open(\"ejemplo_1.txt\", \"r\") as file:\n",
    "    data = file.readlines()\n",
    "    \n",
    "data\n",
    "\n",
    "# Nos retorna una lista"
   ]
  },
  {
   "cell_type": "markdown",
   "id": "8f181e52",
   "metadata": {},
   "source": [
    "#### Ejemplos de escritura de archivos:"
   ]
  },
  {
   "cell_type": "code",
   "execution_count": 7,
   "id": "fd926437",
   "metadata": {},
   "outputs": [],
   "source": [
    "# Vamos a agregar al archivo de \"ejemplo.txt\" el string \"Nueva linea\"\n",
    "\n",
    "with open(\"ejemplo_2.txt\", \"w\") as file:\n",
    "    file.write(\"Nueva linea\\n\")"
   ]
  },
  {
   "cell_type": "code",
   "execution_count": 8,
   "id": "fdc8d7a0",
   "metadata": {},
   "outputs": [
    {
     "name": "stdout",
     "output_type": "stream",
     "text": [
      "Nueva linea\n",
      "\n"
     ]
    }
   ],
   "source": [
    "# Veamos el resultado    \n",
    "    \n",
    "with open(\"ejemplo_2.txt\", \"r\") as file:\n",
    "    print(file.read())\n",
    "    \n",
    "    \n",
    "# Como el modo \"w\" sobreescribe el archivo, se pierde la información\n",
    "# Para no perder la información se usa \"a\""
   ]
  },
  {
   "cell_type": "code",
   "execution_count": 9,
   "id": "ba406788",
   "metadata": {},
   "outputs": [
    {
     "name": "stdout",
     "output_type": "stream",
     "text": [
      "Nueva linea\n",
      "Nuevo intento\n",
      "\n"
     ]
    }
   ],
   "source": [
    "# Vamos a agregar al archivo \"Nuevo intento\", esta vez intentando no sobreescribir el archivo\n",
    "\n",
    "with open(\"ejemplo_2.txt\", \"a\") as file:\n",
    "    file.write(\"Nuevo intento\\n\")\n",
    "    \n",
    "with open(\"ejemplo_2.txt\", \"r\") as file:\n",
    "    print(file.read())"
   ]
  },
  {
   "cell_type": "markdown",
   "id": "99c98d1b",
   "metadata": {},
   "source": [
    "# Libreria pickle\n",
    "\n",
    "**`pickle`** es una libreria que viene por defecto en python, esta libreria escribe y lee ficheros en modo binario. Estos archivos tiene extensión **`.pkl`**.\n",
    "\n",
    "La principal ventaja de usar **`pickle`** es que podemos guardar de forma binaria cualquier objeto en python y este objeto conserva sus propeidades. En los ejemplos anteriores todo se guardaba como cadena de caracteres. Además, los archivos binarios ocupan menos espacio en memoria.\n",
    "\n",
    "|Funcion               |Descripción                                                                                                     |\n",
    "|----------------------|----------------------------------------------------------------------------------------------------------------|\n",
    "|**`.dump(obj, file)`**|Toma como parametro el objeto que se quiere guardar y el objeto file, guarda el objeto en un archivo binario.|\n",
    "|**`.load(obj, file)`**|Toma como parametro el objeto file y lee el fichero binario.                                                   |"
   ]
  },
  {
   "cell_type": "code",
   "execution_count": 10,
   "id": "56aacb6b",
   "metadata": {},
   "outputs": [],
   "source": [
    "import pickle"
   ]
  },
  {
   "cell_type": "code",
   "execution_count": 11,
   "id": "735bd5d5",
   "metadata": {},
   "outputs": [],
   "source": [
    "lista = [0, 1, 2, 3, 4, 5, 6, 7, 8, 9]"
   ]
  },
  {
   "cell_type": "code",
   "execution_count": 12,
   "id": "871cb509",
   "metadata": {},
   "outputs": [],
   "source": [
    "with open(\"ejemplo_binario.pkl\", \"bw\") as file:\n",
    "    pickle.dump(lista, file)"
   ]
  },
  {
   "cell_type": "code",
   "execution_count": 13,
   "id": "81befae2",
   "metadata": {},
   "outputs": [
    {
     "data": {
      "text/plain": [
       "[0, 1, 2, 3, 4, 5, 6, 7, 8, 9]"
      ]
     },
     "execution_count": 13,
     "metadata": {},
     "output_type": "execute_result"
    }
   ],
   "source": [
    "with open(\"ejemplo_binario.pkl\", \"br\") as file:\n",
    "    lista_2 = pickle.load(file)\n",
    "    \n",
    "lista_2"
   ]
  },
  {
   "cell_type": "code",
   "execution_count": 14,
   "id": "954260c2",
   "metadata": {},
   "outputs": [
    {
     "data": {
      "text/plain": [
       "list"
      ]
     },
     "execution_count": 14,
     "metadata": {},
     "output_type": "execute_result"
    }
   ],
   "source": [
    "type(lista_2)"
   ]
  },
  {
   "cell_type": "markdown",
   "id": "ebdb11de",
   "metadata": {},
   "source": [
    "# Libreria os\n",
    "\n",
    "El modulo **`os`** nos permite realizar operaciones dependiente del Sistema Operativo, con este modulo vamos a ser capaces de recorrer los distintos directorios y ficheros del sistema.\n",
    "\n",
    "|Funciones                        |Descripción                                                                                           |\n",
    "|---------------------------------|-----------------------------------------------------------------------------------------------------|\n",
    "|**`os.getcwd()`**                |Nos retorna la ruta en la que estamos trabajando en forma de string.                                 |\n",
    "|**`os.chdir(path)`**             |Nos permite cambiar de ruta de trabajo, tiene como parametro la ruta a la que queremos cambiar.|\n",
    "|**`os.listdir()`**               |Nos retorna una lista con el nombre de los directorios y ficheros de esa ruta.                       |\n",
    "|**`os.mkdir(path)`**             |Crea un nuevo directorio en la ruta que le indiquemos.                                               |\n",
    "|**`os.rmdir(path)`**             |Elimina el directorio de la ruta que le indiquemos.                                                   |\n",
    "|**`os.rename(nombre1, nombre2)`**|Renombra un archivo/directorio, toma 2 parametros, el nombre del objeto y el nuevo nombre.           |\n",
    "|**`os.stat(path)`**              |Retorna la información de ese archivo/fichero.                                                       |"
   ]
  },
  {
   "cell_type": "code",
   "execution_count": 16,
   "id": "0268dcdf",
   "metadata": {},
   "outputs": [],
   "source": [
    "import os"
   ]
  },
  {
   "cell_type": "code",
   "execution_count": 17,
   "id": "136b9bd2",
   "metadata": {},
   "outputs": [
    {
     "data": {
      "text/plain": [
       "'C:\\\\Users\\\\danie\\\\Downloads\\\\ONCE\\\\Python'"
      ]
     },
     "execution_count": 17,
     "metadata": {},
     "output_type": "execute_result"
    }
   ],
   "source": [
    "os.getcwd()"
   ]
  },
  {
   "cell_type": "code",
   "execution_count": 18,
   "id": "49147d38",
   "metadata": {},
   "outputs": [],
   "source": [
    "os.chdir(\"..\")"
   ]
  },
  {
   "cell_type": "code",
   "execution_count": 19,
   "id": "d03f70e8",
   "metadata": {},
   "outputs": [
    {
     "data": {
      "text/plain": [
       "'C:\\\\Users\\\\danie\\\\Downloads\\\\ONCE'"
      ]
     },
     "execution_count": 19,
     "metadata": {},
     "output_type": "execute_result"
    }
   ],
   "source": [
    "os.getcwd()"
   ]
  },
  {
   "cell_type": "code",
   "execution_count": 20,
   "id": "5341440d",
   "metadata": {},
   "outputs": [
    {
     "data": {
      "text/plain": [
       "['.ipynb_checkpoints', 'Python']"
      ]
     },
     "execution_count": 20,
     "metadata": {},
     "output_type": "execute_result"
    }
   ],
   "source": [
    "os.listdir()"
   ]
  },
  {
   "cell_type": "code",
   "execution_count": 21,
   "id": "04590d64",
   "metadata": {},
   "outputs": [],
   "source": [
    "os.mkdir(\"prueba_os\")"
   ]
  },
  {
   "cell_type": "code",
   "execution_count": 22,
   "id": "7c76b6d1",
   "metadata": {},
   "outputs": [
    {
     "data": {
      "text/plain": [
       "['.ipynb_checkpoints', 'prueba_os', 'Python']"
      ]
     },
     "execution_count": 22,
     "metadata": {},
     "output_type": "execute_result"
    }
   ],
   "source": [
    "os.listdir()"
   ]
  },
  {
   "cell_type": "code",
   "execution_count": 23,
   "id": "187cd95a",
   "metadata": {},
   "outputs": [],
   "source": [
    "os.rmdir(\"prueba_os\")"
   ]
  },
  {
   "cell_type": "code",
   "execution_count": 24,
   "id": "b02d79a4",
   "metadata": {},
   "outputs": [
    {
     "data": {
      "text/plain": [
       "['.ipynb_checkpoints', 'Python']"
      ]
     },
     "execution_count": 24,
     "metadata": {},
     "output_type": "execute_result"
    }
   ],
   "source": [
    "os.listdir()"
   ]
  },
  {
   "cell_type": "code",
   "execution_count": null,
   "id": "5600d839",
   "metadata": {},
   "outputs": [],
   "source": [
    "os.rename(\"ejemplo_2.txt\", \"prueba_rename.txt\")"
   ]
  },
  {
   "cell_type": "code",
   "execution_count": 25,
   "id": "3a540b55",
   "metadata": {},
   "outputs": [
    {
     "data": {
      "text/plain": [
       "['.ipynb_checkpoints', 'Python']"
      ]
     },
     "execution_count": 25,
     "metadata": {},
     "output_type": "execute_result"
    }
   ],
   "source": [
    "os.listdir()"
   ]
  },
  {
   "cell_type": "code",
   "execution_count": 26,
   "id": "4d373dcd",
   "metadata": {},
   "outputs": [
    {
     "data": {
      "text/plain": [
       "os.stat_result(st_mode=16895, st_ino=2251799814135694, st_dev=3160838524, st_nlink=1, st_uid=0, st_gid=0, st_size=24576, st_atime=1643578299, st_mtime=1643578253, st_ctime=1642180379)"
      ]
     },
     "execution_count": 26,
     "metadata": {},
     "output_type": "execute_result"
    }
   ],
   "source": [
    "os.stat(\"Python\")"
   ]
  },
  {
   "cell_type": "code",
   "execution_count": null,
   "id": "febdb37e",
   "metadata": {},
   "outputs": [],
   "source": [
    "################################################################################################################################"
   ]
  }
 ],
 "metadata": {
  "kernelspec": {
   "display_name": "Python 3",
   "language": "python",
   "name": "python3"
  },
  "language_info": {
   "codemirror_mode": {
    "name": "ipython",
    "version": 3
   },
   "file_extension": ".py",
   "mimetype": "text/x-python",
   "name": "python",
   "nbconvert_exporter": "python",
   "pygments_lexer": "ipython3",
   "version": "3.8.8"
  }
 },
 "nbformat": 4,
 "nbformat_minor": 5
}
