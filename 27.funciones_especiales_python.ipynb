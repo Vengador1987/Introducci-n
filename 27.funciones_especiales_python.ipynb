{
 "cells": [
  {
   "cell_type": "markdown",
   "id": "8f77ec05",
   "metadata": {},
   "source": [
    "# Operador Ternario \n",
    "\n",
    "Estos operadores evalúan si una expresión es verdadera o falsa, retornando un valor dependiendo del resultado.\n",
    "\n",
    "En pocas palabras, es un condicional **`if`** con la parte del **`else`** simplificado.\n",
    "\n",
    "- **Sintaxis**: **`a if expresion else b`**\n",
    "\n",
    "Este operador va a evaluar la expresión **`expresion`** y determinar si es **`True`** o **`False`**, dependiendo del resultado de la expresion tomara el valor **`a`** o el valor **`b`**. Si la expresión es **`True`**entonces toma el valor **`a`**, si la expresión es **`False`** toma el valor **`b`**.\n",
    "\n",
    "**El resultado de este operador se puede guardar en una variable.**\n",
    "\n",
    "**Ejemplo:**"
   ]
  },
  {
   "cell_type": "code",
   "execution_count": 1,
   "id": "35576182",
   "metadata": {},
   "outputs": [
    {
     "data": {
      "text/plain": [
       "'Verdadero'"
      ]
     },
     "execution_count": 1,
     "metadata": {},
     "output_type": "execute_result"
    }
   ],
   "source": [
    "valor_1 = 10\n",
    "valor_2 = 20\n",
    "\n",
    "# a if expresion else b\n",
    "\n",
    "\"Verdadero\" if (valor_2 > valor_1) else \"Falso\""
   ]
  },
  {
   "cell_type": "code",
   "execution_count": 2,
   "id": "6ed5e642",
   "metadata": {},
   "outputs": [
    {
     "data": {
      "text/plain": [
       "'Falso'"
      ]
     },
     "execution_count": 2,
     "metadata": {},
     "output_type": "execute_result"
    }
   ],
   "source": [
    "\"Verdadero\" if (valor_2 < valor_1) else \"Falso\""
   ]
  },
  {
   "cell_type": "code",
   "execution_count": 3,
   "id": "f5357472",
   "metadata": {},
   "outputs": [
    {
     "data": {
      "text/plain": [
       "1"
      ]
     },
     "execution_count": 3,
     "metadata": {},
     "output_type": "execute_result"
    }
   ],
   "source": [
    "string = \"Hola Mundo, esto es Python.\"\n",
    "\n",
    "1 if \"Python\" in string else 0"
   ]
  },
  {
   "cell_type": "code",
   "execution_count": 4,
   "id": "ec30802e",
   "metadata": {},
   "outputs": [
    {
     "data": {
      "text/plain": [
       "0"
      ]
     },
     "execution_count": 4,
     "metadata": {},
     "output_type": "execute_result"
    }
   ],
   "source": [
    "string = \"Hola Mundo, esto es python.\"\n",
    "\n",
    "1 if \"Python\" in string else 0"
   ]
  },
  {
   "cell_type": "markdown",
   "id": "560161ca",
   "metadata": {},
   "source": [
    "# Lists Comprehensions\n",
    "\n",
    "Se utiliza para **aplicar una función a cada elemento de una lista**. También se puede utilizar **para hacer un filtrado de los elementos de la lista a través de una función** dada.\n",
    "\n",
    "Se utiliza en combinación con el **operador ternario**.\n",
    "\n",
    "- **Sintaxis 1** (sin usar condicionales): **`[valor for elem in objeto_iterable]`**\n",
    "\n",
    "\n",
    "- **Sintaxis 2** (usando **`if`** y **`else`** en forma de operador ternario): **`[valor_1 if expresion else valor_2 for elem in objeto_iterable]`**\n",
    "\n",
    "\n",
    "- **Sintaxis 3** (usando solo **`if`**): **`[valor for elem in objeto_iterable if expresion]`**\n",
    "\n",
    "Esta lista **se puede asignar a una variable**.\n",
    "\n",
    "**Ejemplo:**"
   ]
  },
  {
   "cell_type": "markdown",
   "id": "3b89d2d8",
   "metadata": {},
   "source": [
    "### Sintaxis 1\n",
    "- Con esta sintaxis podemos crear listas.\n",
    "- No se usan condicionales."
   ]
  },
  {
   "cell_type": "code",
   "execution_count": 5,
   "id": "71bdcf53",
   "metadata": {},
   "outputs": [
    {
     "data": {
      "text/plain": [
       "[0, 1, 2, 3, 4, 5, 6, 7, 8, 9]"
      ]
     },
     "execution_count": 5,
     "metadata": {},
     "output_type": "execute_result"
    }
   ],
   "source": [
    "# Vamos a iterar sobre range(10)\n",
    "\n",
    "[i for i in range(10)]\n",
    "\n",
    "# En este ejemplo no hacemos ninguna operación, solo hacemos una lista con los elementos de range(10)\n",
    "# Este resultado es lo mismo que hacer list(range(10))"
   ]
  },
  {
   "cell_type": "code",
   "execution_count": 6,
   "id": "77206f27",
   "metadata": {},
   "outputs": [
    {
     "data": {
      "text/plain": [
       "[0, 1, 4, 9, 16, 25, 36, 49, 64, 81]"
      ]
     },
     "execution_count": 6,
     "metadata": {},
     "output_type": "execute_result"
    }
   ],
   "source": [
    "# Podemos hacer operaciones a los elementos que queremos en la lista\n",
    "\n",
    "[i**2 for i in range(10)]"
   ]
  },
  {
   "cell_type": "code",
   "execution_count": 7,
   "id": "997aacf1",
   "metadata": {},
   "outputs": [
    {
     "data": {
      "text/plain": [
       "['0.0', '0.1', '0.2', '0.3', '0.4', '0.5', '0.6', '0.7', '0.8', '0.9']"
      ]
     },
     "execution_count": 7,
     "metadata": {},
     "output_type": "execute_result"
    }
   ],
   "source": [
    "# Podemos hacer cualquier operación que queramos\n",
    "\n",
    "[str(i/10) for i in range(10)]"
   ]
  },
  {
   "cell_type": "code",
   "execution_count": 8,
   "id": "d76c8042",
   "metadata": {},
   "outputs": [
    {
     "data": {
      "text/plain": [
       "['P', 'Y', 'T', 'H', 'O', 'N', '!']"
      ]
     },
     "execution_count": 8,
     "metadata": {},
     "output_type": "execute_result"
    }
   ],
   "source": [
    "# También podemos iterar sobre cadenas de caracteres\n",
    "\n",
    "string = \"PYTHON!\"\n",
    "\n",
    "[s for s in string]"
   ]
  },
  {
   "cell_type": "code",
   "execution_count": 9,
   "id": "72597471",
   "metadata": {},
   "outputs": [
    {
     "data": {
      "text/plain": [
       "[True, True, True, True, True, True, False]"
      ]
     },
     "execution_count": 9,
     "metadata": {},
     "output_type": "execute_result"
    }
   ],
   "source": [
    "string = \"PYTHON!\"\n",
    "\n",
    "[s.isalpha() for s in string]\n",
    "\n",
    "# .isalpha() retorna True si la cadena es alfanumerica, es decir, un número o letra, si no lo es retorna False"
   ]
  },
  {
   "cell_type": "code",
   "execution_count": 10,
   "id": "b7031798",
   "metadata": {},
   "outputs": [
    {
     "data": {
      "text/plain": [
       "[30, 61, 95, 90, 28, 90, 44, 62, 100, 75]"
      ]
     },
     "execution_count": 10,
     "metadata": {},
     "output_type": "execute_result"
    }
   ],
   "source": [
    "from random import randint\n",
    "\n",
    "[randint(1, 100) for i in range(10)]"
   ]
  },
  {
   "cell_type": "markdown",
   "id": "e0c03b07",
   "metadata": {},
   "source": [
    "### Sintaxis 2\n",
    "- Con esta sintaxis podemos crear listas.\n",
    "- Podemos modificar elementos de una lista.\n",
    "- Necesitamos usar condicionales **`if`**, **`else`** (en forma de operador ternario).\n",
    "- **La condición va al comienzo de la lista.**"
   ]
  },
  {
   "cell_type": "code",
   "execution_count": 11,
   "id": "e2d12cb1",
   "metadata": {},
   "outputs": [
    {
     "data": {
      "text/plain": [
       "[-1, -1, -1, -1, -1, 1, 1, 1, 1, 1]"
      ]
     },
     "execution_count": 11,
     "metadata": {},
     "output_type": "execute_result"
    }
   ],
   "source": [
    "# Vamos a iterar sobre range(10)\n",
    "# Vamos a cambiar los números menores a 4 a -1 y los mayores a 4 a 1\n",
    "\n",
    "[1 if i > 4 else -1 for i in range(10)]"
   ]
  },
  {
   "cell_type": "code",
   "execution_count": 12,
   "id": "8b35d570",
   "metadata": {},
   "outputs": [
    {
     "data": {
      "text/plain": [
       "[0.0, 0.1, 0.2, 0.3, 0.4, 25, 36, 49, 64, 81]"
      ]
     },
     "execution_count": 12,
     "metadata": {},
     "output_type": "execute_result"
    }
   ],
   "source": [
    "# Aquí vamos a dividir entre 10 a los números menores a 4\n",
    "# Si el número es mayor a 4 lo elevamos al cuadrado\n",
    "\n",
    "[i**2 if i > 4 else i/10 for i in range(10)]"
   ]
  },
  {
   "cell_type": "code",
   "execution_count": 13,
   "id": "9470f593",
   "metadata": {},
   "outputs": [
    {
     "data": {
      "text/plain": [
       "[67, 1, 71, 3, 34, 5, 67, 7, 59, 9]"
      ]
     },
     "execution_count": 13,
     "metadata": {},
     "output_type": "execute_result"
    }
   ],
   "source": [
    "[randint(1, 100) if i % 2 == 0 else i for i in range(10)]"
   ]
  },
  {
   "cell_type": "code",
   "execution_count": 14,
   "id": "5a6e44e1",
   "metadata": {},
   "outputs": [
    {
     "data": {
      "text/plain": [
       "['Hola!', 'esto', 'es', 'una', 'cadena', 'en', 'python!']"
      ]
     },
     "execution_count": 14,
     "metadata": {},
     "output_type": "execute_result"
    }
   ],
   "source": [
    "string = \"Hola! esto es una cadena en python!\"\n",
    "\n",
    "string = string.split()\n",
    "\n",
    "string"
   ]
  },
  {
   "cell_type": "code",
   "execution_count": 15,
   "id": "700095cc",
   "metadata": {},
   "outputs": [
    {
     "data": {
      "text/plain": [
       "['Hola!', 'ESTO', 'ES', 'una', 'CADENA', 'EN', 'python!']"
      ]
     },
     "execution_count": 15,
     "metadata": {},
     "output_type": "execute_result"
    }
   ],
   "source": [
    "[cadena.upper() if len(cadena) % 2 == 0 else cadena for cadena in string]"
   ]
  },
  {
   "cell_type": "markdown",
   "id": "b9b0fea5",
   "metadata": {},
   "source": [
    "### Sintaxis 3\n",
    "- Con esta sintaxis podemos crear listas.\n",
    "- Podemos modificar elementos de una lista y acortar la lista.\n",
    "- Solo usamos el condicional **`if`**.\n",
    "- **La condición va al final de la lista, no al comienzo.**"
   ]
  },
  {
   "cell_type": "code",
   "execution_count": 16,
   "id": "ff0b8fac",
   "metadata": {},
   "outputs": [
    {
     "data": {
      "text/plain": [
       "[50, 52, 54, 56, 58, 60, 62, 64, 66, 68]"
      ]
     },
     "execution_count": 16,
     "metadata": {},
     "output_type": "execute_result"
    }
   ],
   "source": [
    "# Aquí vamos a iterar sobre range(50, 70)\n",
    "# La condición va a \"filtrar\" los elementos de la lista\n",
    "\n",
    "[i for i in range(50, 70) if i % 2 == 0]"
   ]
  },
  {
   "cell_type": "code",
   "execution_count": 17,
   "id": "0398f744",
   "metadata": {},
   "outputs": [
    {
     "data": {
      "text/plain": [
       "[50, 0, 52, 0, 54, 0, 56, 0, 58, 0, 60, 0, 62, 0, 64, 0, 66, 0, 68, 0]"
      ]
     },
     "execution_count": 17,
     "metadata": {},
     "output_type": "execute_result"
    }
   ],
   "source": [
    "# Aquí está la misma condición pero con if-else (sintaxis 2)\n",
    "# La lista es más larga porque no elimina los elementos que no cumplan la condición, solo los transforma\n",
    "\n",
    "[i if i % 2 == 0 else 0 for i in range(50, 70)]"
   ]
  },
  {
   "cell_type": "code",
   "execution_count": 18,
   "id": "29fc7f3d",
   "metadata": {},
   "outputs": [
    {
     "data": {
      "text/plain": [
       "[49, 225, 144, 36, 36, 225, 36, 144, 81, 64]"
      ]
     },
     "execution_count": 18,
     "metadata": {},
     "output_type": "execute_result"
    }
   ],
   "source": [
    "lista_1 = [randint(5, 15)**2 for i in range(5, 15)] # Sintaxis 1\n",
    "\n",
    "lista_1"
   ]
  },
  {
   "cell_type": "code",
   "execution_count": 19,
   "id": "2f95473e",
   "metadata": {},
   "outputs": [
    {
     "data": {
      "text/plain": [
       "[49, 36, 36, 36, 81, 64]"
      ]
     },
     "execution_count": 19,
     "metadata": {},
     "output_type": "execute_result"
    }
   ],
   "source": [
    "lista_2 = [num for num in lista_1 if len(str(num)) == 2] # Sintaxis 3\n",
    "\n",
    "lista_2\n",
    "\n",
    "# Ahora la lista es más corta"
   ]
  },
  {
   "cell_type": "markdown",
   "id": "f8b8ad41",
   "metadata": {},
   "source": [
    "# Generator expressions (generadores)\n",
    "\n",
    "Los generadores son tuplas creadas con la misma lógica de los **`list comprehensions`**. \n",
    "- Comparten la misma sintaxis que los **`lists compehensions`**, la única diferencia es que usan **`( )`** en lugar de **`[ ]`**\n",
    "- Ocupan **menos memoria** que una lista.\n",
    "- Luego de iterar sobre ellas, **el generador se vacia**.\n",
    "- Este generador **se puede asignar a una variable**, aunque es poco común hacer esto. (La variable se vacia al final de iterar sobre ella)."
   ]
  },
  {
   "cell_type": "code",
   "execution_count": 20,
   "id": "65988e90",
   "metadata": {},
   "outputs": [
    {
     "data": {
      "text/plain": [
       "<generator object <genexpr> at 0x000001BA121353C0>"
      ]
     },
     "execution_count": 20,
     "metadata": {},
     "output_type": "execute_result"
    }
   ],
   "source": [
    "(i**2 for i in range(10))"
   ]
  },
  {
   "cell_type": "code",
   "execution_count": 21,
   "id": "b7bc0dd4",
   "metadata": {},
   "outputs": [
    {
     "data": {
      "text/plain": [
       "<generator object <genexpr> at 0x000001BA12135890>"
      ]
     },
     "execution_count": 21,
     "metadata": {},
     "output_type": "execute_result"
    }
   ],
   "source": [
    "generador = (i**2 for i in range(10))\n",
    "\n",
    "generador"
   ]
  },
  {
   "cell_type": "code",
   "execution_count": 22,
   "id": "93b00db7",
   "metadata": {},
   "outputs": [
    {
     "name": "stdout",
     "output_type": "stream",
     "text": [
      "0\n",
      "1\n",
      "4\n",
      "9\n",
      "16\n",
      "25\n",
      "36\n",
      "49\n",
      "64\n",
      "81\n"
     ]
    }
   ],
   "source": [
    "# Vamos a recorrer el generador\n",
    "\n",
    "for i in generador:\n",
    "    print(i)"
   ]
  },
  {
   "cell_type": "code",
   "execution_count": 23,
   "id": "7b8d5d28",
   "metadata": {},
   "outputs": [
    {
     "name": "stdout",
     "output_type": "stream",
     "text": [
      "A terminado el bucle.\n"
     ]
    }
   ],
   "source": [
    "# Ya una vez ejecutado el bucle anterior, el generador se vacia\n",
    "# Por lo que si intentamos iterar sobre él, estaríamos iterando sobre un elemento vacio\n",
    "\n",
    "for i in generador:\n",
    "    print(i)\n",
    "    \n",
    "print(\"A terminado el bucle.\")"
   ]
  },
  {
   "cell_type": "markdown",
   "id": "640313c1",
   "metadata": {},
   "source": [
    "# Sets Comprehensions\n",
    "\n",
    "Otra forma de crear sets, utiliza la misma lógica que las **`lists comprehensions`**.\n",
    "\n",
    "- Por ser un set, utiliza las **`{ }`**.\n",
    "- No permite elementos repetidos y no está ordenado, por lo que es poco común usar esta forma para crear sets.\n",
    "- El resultado se puede asignar a una variable."
   ]
  },
  {
   "cell_type": "code",
   "execution_count": 27,
   "id": "3aa3ae2a",
   "metadata": {},
   "outputs": [
    {
     "data": {
      "text/plain": [
       "{1, 2, 3, 4, 5}"
      ]
     },
     "execution_count": 27,
     "metadata": {},
     "output_type": "execute_result"
    }
   ],
   "source": [
    "# Vamos a iterar sobre range(20)\n",
    "\n",
    "{randint(1, 5) for i in range(100)}"
   ]
  },
  {
   "cell_type": "code",
   "execution_count": 42,
   "id": "2a2f96d8",
   "metadata": {},
   "outputs": [
    {
     "data": {
      "text/plain": [
       "{' ', 'a', 'd', 'h', 'l', 'm', 'n', 'o', 'u'}"
      ]
     },
     "execution_count": 42,
     "metadata": {},
     "output_type": "execute_result"
    }
   ],
   "source": [
    "string = \"HOla mundo\"\n",
    "\n",
    "\n",
    "{s.lower() for s in string}"
   ]
  },
  {
   "cell_type": "markdown",
   "id": "faa81ff1",
   "metadata": {},
   "source": [
    "# Dictionaries Comprehensions\n",
    "\n",
    "Como dice su nombre, es una forma de crear diccionarios usando un elemento iterable y el operador ternario.\n",
    "\n",
    "- Al igual que el punto anterior, comparte la misma sintaxis que los **`lists comprehensions`**.\n",
    "- La diferencia es que ahora usan **`{ }`** y **`:`** y necesita una llave y un valor por cada elemento.\n",
    "- El resultado se puede asignar a una variable."
   ]
  },
  {
   "cell_type": "code",
   "execution_count": 28,
   "id": "811022ed",
   "metadata": {},
   "outputs": [
    {
     "data": {
      "text/plain": [
       "{0: 0, 1: 1, 2: 4, 3: 9, 4: 16, 5: 25, 6: 36, 7: 49, 8: 64, 9: 81}"
      ]
     },
     "execution_count": 28,
     "metadata": {},
     "output_type": "execute_result"
    }
   ],
   "source": [
    "# Vamos a iterar sobre range(10)\n",
    "\n",
    "{i : i**2 for i in range(10)}\n",
    "\n",
    "# Como es un diccionario es obligatorio tener llave : valor"
   ]
  },
  {
   "cell_type": "code",
   "execution_count": 29,
   "id": "f8addcd1",
   "metadata": {
    "scrolled": true
   },
   "outputs": [
    {
     "data": {
      "text/plain": [
       "{0: 'C',\n",
       " 1: 'o',\n",
       " 2: 'm',\n",
       " 3: 'p',\n",
       " 4: 'r',\n",
       " 5: 'e',\n",
       " 6: 'h',\n",
       " 7: 'e',\n",
       " 8: 'n',\n",
       " 9: 's',\n",
       " 10: 'i',\n",
       " 11: 'o',\n",
       " 12: 'n',\n",
       " 13: 's'}"
      ]
     },
     "execution_count": 29,
     "metadata": {},
     "output_type": "execute_result"
    }
   ],
   "source": [
    "string = \"Comprehensions\"\n",
    "\n",
    "{num : s for num, s in enumerate(string)}"
   ]
  },
  {
   "cell_type": "code",
   "execution_count": 30,
   "id": "c2ba4344",
   "metadata": {},
   "outputs": [
    {
     "data": {
      "text/plain": [
       "{'C': 0,\n",
       " 'o': 11,\n",
       " 'm': 2,\n",
       " 'p': 3,\n",
       " 'r': 4,\n",
       " 'e': 7,\n",
       " 'h': 6,\n",
       " 'n': 12,\n",
       " 's': 13,\n",
       " 'i': 10}"
      ]
     },
     "execution_count": 30,
     "metadata": {},
     "output_type": "execute_result"
    }
   ],
   "source": [
    "string = \"Comprehensions\"\n",
    "\n",
    "{s : num for num, s in enumerate(string)}\n",
    "\n",
    "# Por ser un diccionario, no permite llaves repetidas, por lo que se queda con el último valor para cada llave"
   ]
  },
  {
   "cell_type": "code",
   "execution_count": 31,
   "id": "a582ffca",
   "metadata": {},
   "outputs": [
    {
     "name": "stdout",
     "output_type": "stream",
     "text": [
      "['Daniel', 'Clara', 'Jesus', 'Antonio', 'Miguel', 'Ana']\n",
      "[20, 23, 29, 22, 27, 20]\n"
     ]
    }
   ],
   "source": [
    "nombres = [\"Daniel\", \"Clara\", \"Jesus\", \"Antonio\", \"Miguel\", \"Ana\"]\n",
    "edades = [randint(20, 30) for i in nombres] \n",
    "\n",
    "print(nombres)\n",
    "print(edades)"
   ]
  },
  {
   "cell_type": "code",
   "execution_count": 32,
   "id": "ce01551a",
   "metadata": {},
   "outputs": [
    {
     "data": {
      "text/plain": [
       "{'Daniel': 20,\n",
       " 'Clara': 23,\n",
       " 'Jesus': 29,\n",
       " 'Antonio': 22,\n",
       " 'Miguel': 27,\n",
       " 'Ana': 20}"
      ]
     },
     "execution_count": 32,
     "metadata": {},
     "output_type": "execute_result"
    }
   ],
   "source": [
    "# Con estas 2 listas vamos a crear un diccionario\n",
    "\n",
    "{nombre : edad for nombre, edad in zip(nombres, edades)}"
   ]
  },
  {
   "cell_type": "markdown",
   "id": "1f88cd39",
   "metadata": {},
   "source": [
    "# Any & All\n",
    "\n",
    "**`any`** y **`all`** son funciones especiales (y palabras reservadas) que recorren una lista comparando **`True`** y **`False`**.\n",
    "\n",
    "- La función **`any`** toma una secuencia de valores booleanos y devuelve **`True`** si **ALGUNO** de los valores de la secuencia es **`True`** de lo contrario devuelve **`False`**.\n",
    "\n",
    "\n",
    "\n",
    "- La función **`all`** toma una secuencia de valores booleanos y devuelve **`True`** si **TODOS** los valores de la secuencia son **`True`**, de los contrario devuelve **`False`**."
   ]
  },
  {
   "cell_type": "code",
   "execution_count": 33,
   "id": "22a9feec",
   "metadata": {},
   "outputs": [
    {
     "data": {
      "text/plain": [
       "[True, False, False]"
      ]
     },
     "execution_count": 33,
     "metadata": {},
     "output_type": "execute_result"
    }
   ],
   "source": [
    "lista_1 = [True, False, False]\n",
    "\n",
    "lista_1"
   ]
  },
  {
   "cell_type": "code",
   "execution_count": 34,
   "id": "086d3860",
   "metadata": {},
   "outputs": [
    {
     "data": {
      "text/plain": [
       "True"
      ]
     },
     "execution_count": 34,
     "metadata": {},
     "output_type": "execute_result"
    }
   ],
   "source": [
    "any(lista_1)"
   ]
  },
  {
   "cell_type": "code",
   "execution_count": 35,
   "id": "91a91765",
   "metadata": {},
   "outputs": [
    {
     "data": {
      "text/plain": [
       "False"
      ]
     },
     "execution_count": 35,
     "metadata": {},
     "output_type": "execute_result"
    }
   ],
   "source": [
    "all(lista_1)"
   ]
  },
  {
   "cell_type": "code",
   "execution_count": 36,
   "id": "f15da825",
   "metadata": {},
   "outputs": [
    {
     "data": {
      "text/plain": [
       "[True, True, True]"
      ]
     },
     "execution_count": 36,
     "metadata": {},
     "output_type": "execute_result"
    }
   ],
   "source": [
    "lista_2 = [True, True, True]\n",
    "\n",
    "lista_2"
   ]
  },
  {
   "cell_type": "code",
   "execution_count": 37,
   "id": "5059e708",
   "metadata": {},
   "outputs": [
    {
     "data": {
      "text/plain": [
       "True"
      ]
     },
     "execution_count": 37,
     "metadata": {},
     "output_type": "execute_result"
    }
   ],
   "source": [
    "any(lista_2)"
   ]
  },
  {
   "cell_type": "code",
   "execution_count": 38,
   "id": "be5147f1",
   "metadata": {},
   "outputs": [
    {
     "data": {
      "text/plain": [
       "True"
      ]
     },
     "execution_count": 38,
     "metadata": {},
     "output_type": "execute_result"
    }
   ],
   "source": [
    "all(lista_2)"
   ]
  },
  {
   "cell_type": "code",
   "execution_count": null,
   "id": "16e6ad04",
   "metadata": {},
   "outputs": [],
   "source": [
    "################################################################################################################################"
   ]
  }
 ],
 "metadata": {
  "kernelspec": {
   "display_name": "Python 3",
   "language": "python",
   "name": "python3"
  },
  "language_info": {
   "codemirror_mode": {
    "name": "ipython",
    "version": 3
   },
   "file_extension": ".py",
   "mimetype": "text/x-python",
   "name": "python",
   "nbconvert_exporter": "python",
   "pygments_lexer": "ipython3",
   "version": "3.8.8"
  }
 },
 "nbformat": 4,
 "nbformat_minor": 5
}
