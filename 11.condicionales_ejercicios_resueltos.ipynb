{
 "cells": [
  {
   "cell_type": "markdown",
   "id": "cc6f0931",
   "metadata": {},
   "source": [
    "## Ejecicio condicionales"
   ]
  },
  {
   "cell_type": "markdown",
   "id": "45bf39fc",
   "metadata": {},
   "source": [
    "### Ejercicio 1\n",
    "\n",
    "- Perdirle al usuario que ingrese un número mayor a 0\n",
    "- Luego que imprima por pantalla si el número es par o impar."
   ]
  },
  {
   "cell_type": "code",
   "execution_count": 1,
   "id": "ce78094c",
   "metadata": {},
   "outputs": [
    {
     "name": "stdout",
     "output_type": "stream",
     "text": [
      "Ingrese un numero mayor que 0: 10\n"
     ]
    },
    {
     "data": {
      "text/plain": [
       "10.0"
      ]
     },
     "execution_count": 1,
     "metadata": {},
     "output_type": "execute_result"
    }
   ],
   "source": [
    "x = float(input(\"Ingrese un numero mayor que 0: \"))\n",
    "\n",
    "x"
   ]
  },
  {
   "cell_type": "code",
   "execution_count": 2,
   "id": "4047176c",
   "metadata": {},
   "outputs": [
    {
     "name": "stdout",
     "output_type": "stream",
     "text": [
      "El numero es par.\n"
     ]
    }
   ],
   "source": [
    "if x % 2 == 0:\n",
    "    print(\"El numero es par.\")\n",
    "    \n",
    "else:\n",
    "    print(\"El numero es impar.\")"
   ]
  },
  {
   "cell_type": "code",
   "execution_count": null,
   "id": "b98b7cc7",
   "metadata": {},
   "outputs": [],
   "source": []
  },
  {
   "cell_type": "markdown",
   "id": "50f7c887",
   "metadata": {},
   "source": [
    "### Ejercicio 2\n",
    "- Pedirle al usuario que ingrese una palabra.\n",
    "- Contar el número de letras y decir si es una palabra larga (10 caracteres o más) o corta."
   ]
  },
  {
   "cell_type": "code",
   "execution_count": 3,
   "id": "dd695bac",
   "metadata": {},
   "outputs": [
    {
     "name": "stdout",
     "output_type": "stream",
     "text": [
      "Ingrese una palabra: holamundotodojunto\n"
     ]
    }
   ],
   "source": [
    "string = input(\"Ingrese una palabra: \")"
   ]
  },
  {
   "cell_type": "code",
   "execution_count": 4,
   "id": "9fbdea13",
   "metadata": {},
   "outputs": [
    {
     "name": "stdout",
     "output_type": "stream",
     "text": [
      "Es una palabra larga\n"
     ]
    }
   ],
   "source": [
    "if len(string) >= 10:\n",
    "    print(\"Es una palabra larga\")\n",
    "    \n",
    "else:\n",
    "    print(\"Es una palabra corta\")"
   ]
  },
  {
   "cell_type": "code",
   "execution_count": null,
   "id": "8f385606",
   "metadata": {},
   "outputs": [],
   "source": []
  },
  {
   "cell_type": "markdown",
   "id": "c3b58038",
   "metadata": {},
   "source": [
    "### Ejercicio 3\n",
    "- Pedirle al usuario que ingrese una palabra.\n",
    "- Contar cuantas vocales tiene e imprimir cuantas hay de cada una.\n",
    "- Luego imprimir por pantalla si tiene más vocales que consonantes."
   ]
  },
  {
   "cell_type": "code",
   "execution_count": 11,
   "id": "e31e702d",
   "metadata": {},
   "outputs": [
    {
     "name": "stdout",
     "output_type": "stream",
     "text": [
      "Ingrese una palabra: aaaaaaaaaaeeeeee\n"
     ]
    },
    {
     "data": {
      "text/plain": [
       "'aaaaaaaaaaeeeeee'"
      ]
     },
     "execution_count": 11,
     "metadata": {},
     "output_type": "execute_result"
    }
   ],
   "source": [
    "string = input(\"Ingrese una palabra: \")\n",
    "\n",
    "string"
   ]
  },
  {
   "cell_type": "code",
   "execution_count": 12,
   "id": "21726bb9",
   "metadata": {},
   "outputs": [
    {
     "name": "stdout",
     "output_type": "stream",
     "text": [
      "a: 10\n",
      "e: 6\n",
      "i: 0\n",
      "o: 0\n",
      "u: 0\n"
     ]
    }
   ],
   "source": [
    "a = string.count(\"a\")\n",
    "e = string.count(\"e\")\n",
    "i = string.count(\"i\")\n",
    "o = string.count(\"o\")\n",
    "u = string.count(\"u\")\n",
    "\n",
    "print(\"a:\", a)\n",
    "print(\"e:\", e)\n",
    "print(\"i:\", i)\n",
    "print(\"o:\", o)\n",
    "print(\"u:\", u)"
   ]
  },
  {
   "cell_type": "code",
   "execution_count": 14,
   "id": "0e3bb7e3",
   "metadata": {},
   "outputs": [
    {
     "name": "stdout",
     "output_type": "stream",
     "text": [
      "Hay mas vocales.\n"
     ]
    }
   ],
   "source": [
    "vocales = a + e + i + o + u\n",
    "\n",
    "if vocales > len(string) - vocales:\n",
    "    print(\"Hay mas vocales.\")\n",
    "    \n",
    "elif vocales == len(string) - vocales:\n",
    "    print(\"Hay el mismo número de vocales y consonantes.\")\n",
    "    \n",
    "else:\n",
    "    print(\"Hay más consonantes.\")"
   ]
  },
  {
   "cell_type": "markdown",
   "id": "c075c77b",
   "metadata": {},
   "source": [
    "### Ejercicio 4\n",
    "- Pedir al usuario que ingrese una frase.\n",
    "- Contar el número de palabras.\n",
    "- Si el número de palabras es impar imprimir \"El número de palabras es impar\" de lo contrario imprimir \"El número de palabras es par."
   ]
  },
  {
   "cell_type": "code",
   "execution_count": 15,
   "id": "67962e21",
   "metadata": {},
   "outputs": [
    {
     "name": "stdout",
     "output_type": "stream",
     "text": [
      "Ingrese una frase: hola mundo todo separado\n"
     ]
    }
   ],
   "source": [
    "frase = input(\"Ingrese una frase: \")"
   ]
  },
  {
   "cell_type": "code",
   "execution_count": 16,
   "id": "0cdfdbbd",
   "metadata": {},
   "outputs": [
    {
     "data": {
      "text/plain": [
       "4"
      ]
     },
     "execution_count": 16,
     "metadata": {},
     "output_type": "execute_result"
    }
   ],
   "source": [
    "frase = frase.split(\" \")\n",
    "len(frase)"
   ]
  },
  {
   "cell_type": "code",
   "execution_count": 17,
   "id": "8c1baece",
   "metadata": {},
   "outputs": [
    {
     "name": "stdout",
     "output_type": "stream",
     "text": [
      "Hay un número de palabras par.\n"
     ]
    }
   ],
   "source": [
    "if len(frase) % 2 == 0:\n",
    "    print(\"Hay un número de palabras par.\")\n",
    "    \n",
    "else:\n",
    "    print(\"Hay un número de palabras impar.\")"
   ]
  },
  {
   "cell_type": "code",
   "execution_count": null,
   "id": "38fb44c7",
   "metadata": {},
   "outputs": [],
   "source": []
  }
 ],
 "metadata": {
  "kernelspec": {
   "display_name": "Python 3",
   "language": "python",
   "name": "python3"
  },
  "language_info": {
   "codemirror_mode": {
    "name": "ipython",
    "version": 3
   },
   "file_extension": ".py",
   "mimetype": "text/x-python",
   "name": "python",
   "nbconvert_exporter": "python",
   "pygments_lexer": "ipython3",
   "version": "3.8.8"
  }
 },
 "nbformat": 4,
 "nbformat_minor": 5
}
