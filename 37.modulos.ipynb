{
 "cells": [
  {
   "cell_type": "markdown",
   "id": "b1dfb2fe",
   "metadata": {},
   "source": [
    "# Modulos\n",
    "\n",
    "Además de importar librerias de terceros o las que vienen por defecto en python podemos crear nuestros propios modulos, es decir, podemos tener en un archivo **`.py`** funciones o definiciones de clases e importarlas en nuestros proyectos de python, para eso tenemos que seguir ciertos pasos:\n",
    "1. Crear un archivo **`.py`**.\n",
    "2. Tener ese archivo en el mismo directorio de nuestro proyecto o, si estamos usando anaconda, en **`C:\\Users\\TuUsuario\\anaconda3\\Lib\\site-packages`**\n",
    "3. Importar el archivo, dependiendo de donde este el archivo **`.py`**.\n",
    "\n",
    "\n",
    "Si esta en el mismo directorio, podemos hacer referencia a él de esta forma (el archivo se llama **`modulo_ejemplo.py`**):\n",
    "\n",
    "**`from . import modulo_ejemplo`**\n",
    "\n",
    "**Nota: Esto no se puede hacer usando Jupyter, pero si es posible en un editor de texto (SublimeText, VisualStudio...).**\n",
    "\n",
    "Si esta en el directorio de **`site-packages`** tendremos que crear un directorio (**`modulo_ejemplo`**) y el archivo **`.py`** deberá tener el nombre de **`__init__.py`** y hariamos:\n",
    "\n",
    "**`import modulo_ejemplo`**"
   ]
  },
  {
   "cell_type": "code",
   "execution_count": null,
   "id": "e44af6b6",
   "metadata": {},
   "outputs": [],
   "source": [
    "# 1.\n",
    "\n",
    "from . import modulo_ejemplo"
   ]
  },
  {
   "cell_type": "code",
   "execution_count": null,
   "id": "9b5b234d",
   "metadata": {},
   "outputs": [],
   "source": [
    "# 2.\n",
    "import modulo_ejemplo"
   ]
  },
  {
   "cell_type": "code",
   "execution_count": null,
   "id": "5c86935f",
   "metadata": {},
   "outputs": [],
   "source": [
    "modulo_ejemplo.func_1(1, 2)"
   ]
  },
  {
   "cell_type": "code",
   "execution_count": null,
   "id": "42c7de0f",
   "metadata": {},
   "outputs": [],
   "source": [
    "mi_coche = modulo_ejemplo.Coche(4, 4, \"Electrico\", \"Azul\", \"Honda\", 0)\n",
    "\n",
    "mi_coche.display_info()"
   ]
  },
  {
   "cell_type": "code",
   "execution_count": null,
   "id": "f65882c4",
   "metadata": {},
   "outputs": [],
   "source": [
    "from modulo_ejemplo import func_1\n",
    "\n",
    "func_1(5, 6)"
   ]
  },
  {
   "cell_type": "code",
   "execution_count": null,
   "id": "bc3e8578",
   "metadata": {},
   "outputs": [],
   "source": []
  }
 ],
 "metadata": {
  "kernelspec": {
   "display_name": "Python 3",
   "language": "python",
   "name": "python3"
  },
  "language_info": {
   "codemirror_mode": {
    "name": "ipython",
    "version": 3
   },
   "file_extension": ".py",
   "mimetype": "text/x-python",
   "name": "python",
   "nbconvert_exporter": "python",
   "pygments_lexer": "ipython3",
   "version": "3.8.8"
  }
 },
 "nbformat": 4,
 "nbformat_minor": 5
}
